{
 "cells": [
  {
   "cell_type": "code",
   "execution_count": 1,
   "metadata": {},
   "outputs": [],
   "source": [
    "import tweepy\n",
    "from textblob import TextBlob"
   ]
  },
  {
   "cell_type": "code",
   "execution_count": 4,
   "metadata": {},
   "outputs": [],
   "source": [
    "consumer_key='SHJODHCYty1LkgWo92F48mCWU'\n",
    "consumer_key_secret='u4k1Cu8VRqlYTnoyDDQSFel9BYozKel2ZzzDw7UgtY9SoZLiL9'\n",
    "\n",
    "access_token='3134930196-IZVp3evjugxTT4rUs4STMVrMd2vfFtuUMNwHom5'\n",
    "access_token_secret='wYSIkdn2479m9EitCQkJjFaqgL4XJRzdq23R97Lq7lblE'"
   ]
  },
  {
   "cell_type": "code",
   "execution_count": 5,
   "metadata": {},
   "outputs": [],
   "source": [
    "auth= tweepy.OAuthHandler(consumer_key, consumer_key_secret)\n",
    "auth.set_access_token(access_token, access_token_secret)"
   ]
  },
  {
   "cell_type": "code",
   "execution_count": 6,
   "metadata": {},
   "outputs": [],
   "source": [
    "api = tweepy.API(auth)"
   ]
  },
  {
   "cell_type": "code",
   "execution_count": 13,
   "metadata": {},
   "outputs": [],
   "source": [
    "public_tweets = api.search('Python')"
   ]
  },
  {
   "cell_type": "code",
   "execution_count": 14,
   "metadata": {},
   "outputs": [
    {
     "name": "stdout",
     "output_type": "stream",
     "text": [
      "RT @heggyhere: RT @JohnEngine_: RT @gp_pulipaka: A Colossal Collection of Cheat Sheets for #AI, NumPy, Neural Networks, #BigData #Analytics…\n",
      "Sentiment(polarity=0.3, subjectivity=0.8)\n",
      "Positive\n",
      "RT @DD_NaNa_: Data Types for Data Science in Python: Consolidate and extend your knowledge of Python data types such as lists, dictionaries…\n",
      "Sentiment(polarity=0.0, subjectivity=0.5)\n",
      "Neutral\n",
      "すし\n",
      "Sentiment(polarity=0.0, subjectivity=0.0)\n",
      "Neutral\n",
      "RT @shatiku_master: 電機メーカーで組み込みやってます！\n",
      "信号処理系が得意です😄\n",
      "サーバー、ネットワークの環境構築等もやってます✨\n",
      "好きな言語：C++,Python,C#,Java,Bash\n",
      "興味がある：処理高速化、機械学習\n",
      "いろんなエンジニアさんと繋がれれば…\n",
      "Sentiment(polarity=0.0, subjectivity=0.0)\n",
      "Neutral\n",
      "RT @_datalab_: Να γράφετε python, κάνει καλό😉\n",
      "Sentiment(polarity=0.0, subjectivity=0.0)\n",
      "Neutral\n",
      "This with all the math modules, now I get why physicists and mathematicians love it...\n",
      "Who am I fooling, we all lov… https://t.co/U0aipa5DTy\n",
      "Sentiment(polarity=0.5, subjectivity=0.6)\n",
      "Positive\n",
      "Queremos explicarte TODO acerca de Moneyball, el único curso donde aprenderás Ciencia de Datos y programación en Py… https://t.co/qpnhVIbR7g\n",
      "Sentiment(polarity=0.0, subjectivity=0.0)\n",
      "Neutral\n",
      "Data Types for Data Science in Python: Consolidate and extend your knowledge of Python data types such as lists, di… https://t.co/qO6C7qGpVd\n",
      "Sentiment(polarity=0.0, subjectivity=0.5)\n",
      "Neutral\n",
      "RT @GavLaaaaaaaa: Debunking the myth that RDBMS joins dont scale https://t.co/ll6J3uCxqI #programming #softwareengineering #bigdata #datasc…\n",
      "Sentiment(polarity=0.0, subjectivity=0.0)\n",
      "Neutral\n",
      "RT @tsun_tsun_dayo: 初めてpythonなるもので遊んでいる\n",
      "\n",
      "京大人狼という悪魔的ゲームを作っている\n",
      "\n",
      "・理事は学生を処分する\n",
      "・学生は理事を見つけて追放する\n",
      "\n",
      "・朝のメッセージが熱い\n",
      "「立て看が設置されました」←立て看描きが生存\n",
      "「立て看が撤去されました」…\n",
      "Sentiment(polarity=0.0, subjectivity=0.0)\n",
      "Neutral\n",
      "Python終わる気がしない、しまじろうと一緒に頑張ってもできないもんは出来ないヨ\n",
      "Sentiment(polarity=0.0, subjectivity=0.0)\n",
      "Neutral\n",
      "RT @Webners: What is Bootstrap Panel?\n",
      "Read here: https://t.co/MO8qWFOhRA\n",
      "\n",
      "#bootstrap #panel #html #css #javascript #webdesign #webdeveloper…\n",
      "Sentiment(polarity=0.0, subjectivity=0.0)\n",
      "Neutral\n",
      "RT @3TechAgency: Lets reinvent your business.\n",
      "\n",
      "#100DaysOfCode #website #Python #javascript #programming #Marketing #coding #programming #Wo…\n",
      "Sentiment(polarity=0.0, subjectivity=0.0)\n",
      "Neutral\n",
      "RT @PaoloMomigliano: Looks super useful. How does it compares with @simonhmartin python scripts (https://t.co/xkPTpR8QSB)? Would be a usefu…\n",
      "Sentiment(polarity=0.31666666666666665, subjectivity=0.3333333333333333)\n",
      "Positive\n",
      "【paizaラーニング】Python入門編3: ループ処理を学ぶ (全 7 回)を修了しました！ https://t.co/eQ10ZSlWuk #paiza\n",
      "Sentiment(polarity=0.0, subjectivity=0.0)\n",
      "Neutral\n"
     ]
    }
   ],
   "source": [
    "for tweet in public_tweets:\n",
    "    print(tweet.text)\n",
    "    analysis = TextBlob(tweet.text)\n",
    "    print(analysis.sentiment)\n",
    "    if analysis.sentiment[0]>0:\n",
    "        print ('Positive')\n",
    "    elif analysis.sentiment[0]<0:\n",
    "        print ('Negative')\n",
    "    else:\n",
    "        print ('Neutral')"
   ]
  }
 ],
 "metadata": {
  "kernelspec": {
   "display_name": "Python 3",
   "language": "python",
   "name": "python3"
  },
  "language_info": {
   "codemirror_mode": {
    "name": "ipython",
    "version": 3
   },
   "file_extension": ".py",
   "mimetype": "text/x-python",
   "name": "python",
   "nbconvert_exporter": "python",
   "pygments_lexer": "ipython3",
   "version": "3.7.6"
  }
 },
 "nbformat": 4,
 "nbformat_minor": 4
}
