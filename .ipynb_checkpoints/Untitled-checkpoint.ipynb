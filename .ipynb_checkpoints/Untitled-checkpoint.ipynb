{
 "cells": [
  {
   "cell_type": "code",
   "execution_count": 18,
   "metadata": {},
   "outputs": [],
   "source": [
    "import pandas as pd\n",
    "import requests\n",
    "import json"
   ]
  },
  {
   "cell_type": "code",
   "execution_count": 2,
   "metadata": {},
   "outputs": [],
   "source": [
    "data=[{'date': '2021-02-17 12:20:16', 'positives': 1, 'total': 74, 'sha256': 'c7b7a6da3a0cfe182be4563a312aca0c6d122176064a2a8451b2c83dfdcf2628'},\n",
    "{'date': '2021-01-13 10:23:02', 'positives': 1, 'total': 76, 'sha256': '9a648ebe1f68753ea4799421f4fa83dfb9996fe43117e0bad37d0accbf8a99a9'},\n",
    "{'date': '2021-01-04 19:27:18', 'positives': 1, 'total': 76, 'sha256': 'c6df672e210e7c69eb4d8c6cb1ea6ef54681478c4849272fe5425a8603c5f7cf'},\n",
    "{'date': '2021-01-01 04:07:52', 'positives': 1, 'total': 76, 'sha256': 'c0a5a0a251bab2b73e5f2f5413ca83cbef5c5bbf3c47bc51423eea6cfbd8abaf'},\n",
    "{'date': '2020-12-22 16:18:22', 'positives': 1, 'total': 76, 'sha256': '8653fde533a0120eb564a467879ed69a60e9d87a71173f79fa8d10568c310101'},\n",
    "{'date': '2020-09-28 06:19:00', 'positives': 1, 'total': 75, 'sha256': '7f687569751ed515e2bde78086e1d0a6ab516f06c1f6dffa50632537b315058d'},\n",
    "{'date': '2020-09-15 15:47:41', 'positives': 2, 'total': 73, 'sha256': 'b0df33b3e8d8ba91acdb81a947a229afe5e946521bdb0090dd6932f2ddfa13fd'},\n",
    "{'date': '2020-07-31 12:55:00', 'positives': 3, 'total': 75, 'sha256': '5b949e04db3b69c478709006ea851b8bdbb88d13fa641213bd26f6cd6a8bbeee'},\n",
    "{'date': '2020-08-13 03:25:29', 'positives': 8, 'total': 76, 'sha256': '7a8b4067491a9f5f849000e1868c10d364f103a2aa50f4e5ee54fe5c00a7c04e'},\n",
    "{'date': '2020-08-12 00:43:33', 'positives': 10, 'total': 76, 'sha256': '786c93170f33ef82b3f915086832f17cdf0fbd3b0c023cf82ecd29e6d412fadf'},\n",
    "{'date': '2020-08-06 01:56:16', 'positives': 7, 'total': 76, 'sha256': '84d2e916494d656d29117e8621457cc2e7e2646de9cd754a93026cfc0872224b'},\n",
    "{'date': '2019-02-26 10:14:35', 'positives': 5, 'total': 69, 'sha256': '80ce563c838572c14f0221200e1a7e5ee97f4760233f56ef99d3ec01121ac94a'},\n",
    "{'positives': 1, 'total': 52, 'sha256': '6c953bda48ba86da27132b9d4c8096d14289b5293d403a9682ea034fc4248eb5'},\n",
    "{'positives': 2, 'total': 52, 'sha256': '8f9dcf1be9222a146543d77963fd93ef0279e258fe513143642ed47432084eea'},\n",
    "{'positives': 22, 'total': 60, 'sha256': '01f865122bb64a90dfdc300aae3c36047f9ec0a76703dfd3349b97e6ea016905'},\n",
    "{'positives': 'sha256', 'total': 61, 'sha256': '880acca56ecae6f56621573bfa2c9042b6c8b8317761b041805b45d85630fe3b'}]\n"
   ]
  },
  {
   "cell_type": "code",
   "execution_count": 3,
   "metadata": {},
   "outputs": [],
   "source": [
    "df=pd.DataFrame.from_dict(data)"
   ]
  },
  {
   "cell_type": "code",
   "execution_count": 4,
   "metadata": {},
   "outputs": [
    {
     "data": {
      "text/html": [
       "<div>\n",
       "<style scoped>\n",
       "    .dataframe tbody tr th:only-of-type {\n",
       "        vertical-align: middle;\n",
       "    }\n",
       "\n",
       "    .dataframe tbody tr th {\n",
       "        vertical-align: top;\n",
       "    }\n",
       "\n",
       "    .dataframe thead th {\n",
       "        text-align: right;\n",
       "    }\n",
       "</style>\n",
       "<table border=\"1\" class=\"dataframe\">\n",
       "  <thead>\n",
       "    <tr style=\"text-align: right;\">\n",
       "      <th></th>\n",
       "      <th>date</th>\n",
       "      <th>positives</th>\n",
       "      <th>total</th>\n",
       "      <th>sha256</th>\n",
       "    </tr>\n",
       "  </thead>\n",
       "  <tbody>\n",
       "    <tr>\n",
       "      <th>0</th>\n",
       "      <td>2021-02-17 12:20:16</td>\n",
       "      <td>1</td>\n",
       "      <td>74</td>\n",
       "      <td>c7b7a6da3a0cfe182be4563a312aca0c6d122176064a2a...</td>\n",
       "    </tr>\n",
       "    <tr>\n",
       "      <th>1</th>\n",
       "      <td>2021-01-13 10:23:02</td>\n",
       "      <td>1</td>\n",
       "      <td>76</td>\n",
       "      <td>9a648ebe1f68753ea4799421f4fa83dfb9996fe43117e0...</td>\n",
       "    </tr>\n",
       "    <tr>\n",
       "      <th>2</th>\n",
       "      <td>2021-01-04 19:27:18</td>\n",
       "      <td>1</td>\n",
       "      <td>76</td>\n",
       "      <td>c6df672e210e7c69eb4d8c6cb1ea6ef54681478c484927...</td>\n",
       "    </tr>\n",
       "    <tr>\n",
       "      <th>3</th>\n",
       "      <td>2021-01-01 04:07:52</td>\n",
       "      <td>1</td>\n",
       "      <td>76</td>\n",
       "      <td>c0a5a0a251bab2b73e5f2f5413ca83cbef5c5bbf3c47bc...</td>\n",
       "    </tr>\n",
       "    <tr>\n",
       "      <th>4</th>\n",
       "      <td>2020-12-22 16:18:22</td>\n",
       "      <td>1</td>\n",
       "      <td>76</td>\n",
       "      <td>8653fde533a0120eb564a467879ed69a60e9d87a71173f...</td>\n",
       "    </tr>\n",
       "    <tr>\n",
       "      <th>5</th>\n",
       "      <td>2020-09-28 06:19:00</td>\n",
       "      <td>1</td>\n",
       "      <td>75</td>\n",
       "      <td>7f687569751ed515e2bde78086e1d0a6ab516f06c1f6df...</td>\n",
       "    </tr>\n",
       "    <tr>\n",
       "      <th>6</th>\n",
       "      <td>2020-09-15 15:47:41</td>\n",
       "      <td>2</td>\n",
       "      <td>73</td>\n",
       "      <td>b0df33b3e8d8ba91acdb81a947a229afe5e946521bdb00...</td>\n",
       "    </tr>\n",
       "    <tr>\n",
       "      <th>7</th>\n",
       "      <td>2020-07-31 12:55:00</td>\n",
       "      <td>3</td>\n",
       "      <td>75</td>\n",
       "      <td>5b949e04db3b69c478709006ea851b8bdbb88d13fa6412...</td>\n",
       "    </tr>\n",
       "    <tr>\n",
       "      <th>8</th>\n",
       "      <td>2020-08-13 03:25:29</td>\n",
       "      <td>8</td>\n",
       "      <td>76</td>\n",
       "      <td>7a8b4067491a9f5f849000e1868c10d364f103a2aa50f4...</td>\n",
       "    </tr>\n",
       "    <tr>\n",
       "      <th>9</th>\n",
       "      <td>2020-08-12 00:43:33</td>\n",
       "      <td>10</td>\n",
       "      <td>76</td>\n",
       "      <td>786c93170f33ef82b3f915086832f17cdf0fbd3b0c023c...</td>\n",
       "    </tr>\n",
       "    <tr>\n",
       "      <th>10</th>\n",
       "      <td>2020-08-06 01:56:16</td>\n",
       "      <td>7</td>\n",
       "      <td>76</td>\n",
       "      <td>84d2e916494d656d29117e8621457cc2e7e2646de9cd75...</td>\n",
       "    </tr>\n",
       "    <tr>\n",
       "      <th>11</th>\n",
       "      <td>2019-02-26 10:14:35</td>\n",
       "      <td>5</td>\n",
       "      <td>69</td>\n",
       "      <td>80ce563c838572c14f0221200e1a7e5ee97f4760233f56...</td>\n",
       "    </tr>\n",
       "    <tr>\n",
       "      <th>12</th>\n",
       "      <td>NaN</td>\n",
       "      <td>1</td>\n",
       "      <td>52</td>\n",
       "      <td>6c953bda48ba86da27132b9d4c8096d14289b5293d403a...</td>\n",
       "    </tr>\n",
       "    <tr>\n",
       "      <th>13</th>\n",
       "      <td>NaN</td>\n",
       "      <td>2</td>\n",
       "      <td>52</td>\n",
       "      <td>8f9dcf1be9222a146543d77963fd93ef0279e258fe5131...</td>\n",
       "    </tr>\n",
       "    <tr>\n",
       "      <th>14</th>\n",
       "      <td>NaN</td>\n",
       "      <td>22</td>\n",
       "      <td>60</td>\n",
       "      <td>01f865122bb64a90dfdc300aae3c36047f9ec0a76703df...</td>\n",
       "    </tr>\n",
       "    <tr>\n",
       "      <th>15</th>\n",
       "      <td>NaN</td>\n",
       "      <td>sha256</td>\n",
       "      <td>61</td>\n",
       "      <td>880acca56ecae6f56621573bfa2c9042b6c8b8317761b0...</td>\n",
       "    </tr>\n",
       "  </tbody>\n",
       "</table>\n",
       "</div>"
      ],
      "text/plain": [
       "                   date positives  total  \\\n",
       "0   2021-02-17 12:20:16         1     74   \n",
       "1   2021-01-13 10:23:02         1     76   \n",
       "2   2021-01-04 19:27:18         1     76   \n",
       "3   2021-01-01 04:07:52         1     76   \n",
       "4   2020-12-22 16:18:22         1     76   \n",
       "5   2020-09-28 06:19:00         1     75   \n",
       "6   2020-09-15 15:47:41         2     73   \n",
       "7   2020-07-31 12:55:00         3     75   \n",
       "8   2020-08-13 03:25:29         8     76   \n",
       "9   2020-08-12 00:43:33        10     76   \n",
       "10  2020-08-06 01:56:16         7     76   \n",
       "11  2019-02-26 10:14:35         5     69   \n",
       "12                  NaN         1     52   \n",
       "13                  NaN         2     52   \n",
       "14                  NaN        22     60   \n",
       "15                  NaN    sha256     61   \n",
       "\n",
       "                                               sha256  \n",
       "0   c7b7a6da3a0cfe182be4563a312aca0c6d122176064a2a...  \n",
       "1   9a648ebe1f68753ea4799421f4fa83dfb9996fe43117e0...  \n",
       "2   c6df672e210e7c69eb4d8c6cb1ea6ef54681478c484927...  \n",
       "3   c0a5a0a251bab2b73e5f2f5413ca83cbef5c5bbf3c47bc...  \n",
       "4   8653fde533a0120eb564a467879ed69a60e9d87a71173f...  \n",
       "5   7f687569751ed515e2bde78086e1d0a6ab516f06c1f6df...  \n",
       "6   b0df33b3e8d8ba91acdb81a947a229afe5e946521bdb00...  \n",
       "7   5b949e04db3b69c478709006ea851b8bdbb88d13fa6412...  \n",
       "8   7a8b4067491a9f5f849000e1868c10d364f103a2aa50f4...  \n",
       "9   786c93170f33ef82b3f915086832f17cdf0fbd3b0c023c...  \n",
       "10  84d2e916494d656d29117e8621457cc2e7e2646de9cd75...  \n",
       "11  80ce563c838572c14f0221200e1a7e5ee97f4760233f56...  \n",
       "12  6c953bda48ba86da27132b9d4c8096d14289b5293d403a...  \n",
       "13  8f9dcf1be9222a146543d77963fd93ef0279e258fe5131...  \n",
       "14  01f865122bb64a90dfdc300aae3c36047f9ec0a76703df...  \n",
       "15  880acca56ecae6f56621573bfa2c9042b6c8b8317761b0...  "
      ]
     },
     "execution_count": 4,
     "metadata": {},
     "output_type": "execute_result"
    }
   ],
   "source": [
    "df"
   ]
  },
  {
   "cell_type": "code",
   "execution_count": 5,
   "metadata": {},
   "outputs": [
    {
     "name": "stdout",
     "output_type": "stream",
     "text": [
      "<class 'pandas.core.frame.DataFrame'>\n",
      "RangeIndex: 16 entries, 0 to 15\n",
      "Data columns (total 4 columns):\n",
      " #   Column     Non-Null Count  Dtype \n",
      "---  ------     --------------  ----- \n",
      " 0   date       12 non-null     object\n",
      " 1   positives  16 non-null     object\n",
      " 2   total      16 non-null     int64 \n",
      " 3   sha256     16 non-null     object\n",
      "dtypes: int64(1), object(3)\n",
      "memory usage: 640.0+ bytes\n"
     ]
    }
   ],
   "source": [
    "df.info()"
   ]
  },
  {
   "cell_type": "code",
   "execution_count": 6,
   "metadata": {},
   "outputs": [],
   "source": [
    "df1=df"
   ]
  },
  {
   "cell_type": "code",
   "execution_count": 7,
   "metadata": {},
   "outputs": [
    {
     "data": {
      "text/plain": [
       "Int64Index([15], dtype='int64')"
      ]
     },
     "execution_count": 7,
     "metadata": {},
     "output_type": "execute_result"
    }
   ],
   "source": [
    "i=df[df.positives=='sha256'].index\n",
    "i"
   ]
  },
  {
   "cell_type": "code",
   "execution_count": 8,
   "metadata": {},
   "outputs": [],
   "source": [
    "df=df.drop(i)"
   ]
  },
  {
   "cell_type": "code",
   "execution_count": 9,
   "metadata": {},
   "outputs": [
    {
     "data": {
      "text/html": [
       "<div>\n",
       "<style scoped>\n",
       "    .dataframe tbody tr th:only-of-type {\n",
       "        vertical-align: middle;\n",
       "    }\n",
       "\n",
       "    .dataframe tbody tr th {\n",
       "        vertical-align: top;\n",
       "    }\n",
       "\n",
       "    .dataframe thead th {\n",
       "        text-align: right;\n",
       "    }\n",
       "</style>\n",
       "<table border=\"1\" class=\"dataframe\">\n",
       "  <thead>\n",
       "    <tr style=\"text-align: right;\">\n",
       "      <th></th>\n",
       "      <th>date</th>\n",
       "      <th>positives</th>\n",
       "      <th>total</th>\n",
       "      <th>sha256</th>\n",
       "    </tr>\n",
       "  </thead>\n",
       "  <tbody>\n",
       "    <tr>\n",
       "      <th>0</th>\n",
       "      <td>2021-02-17 12:20:16</td>\n",
       "      <td>1</td>\n",
       "      <td>74</td>\n",
       "      <td>c7b7a6da3a0cfe182be4563a312aca0c6d122176064a2a...</td>\n",
       "    </tr>\n",
       "    <tr>\n",
       "      <th>1</th>\n",
       "      <td>2021-01-13 10:23:02</td>\n",
       "      <td>1</td>\n",
       "      <td>76</td>\n",
       "      <td>9a648ebe1f68753ea4799421f4fa83dfb9996fe43117e0...</td>\n",
       "    </tr>\n",
       "    <tr>\n",
       "      <th>2</th>\n",
       "      <td>2021-01-04 19:27:18</td>\n",
       "      <td>1</td>\n",
       "      <td>76</td>\n",
       "      <td>c6df672e210e7c69eb4d8c6cb1ea6ef54681478c484927...</td>\n",
       "    </tr>\n",
       "    <tr>\n",
       "      <th>3</th>\n",
       "      <td>2021-01-01 04:07:52</td>\n",
       "      <td>1</td>\n",
       "      <td>76</td>\n",
       "      <td>c0a5a0a251bab2b73e5f2f5413ca83cbef5c5bbf3c47bc...</td>\n",
       "    </tr>\n",
       "    <tr>\n",
       "      <th>4</th>\n",
       "      <td>2020-12-22 16:18:22</td>\n",
       "      <td>1</td>\n",
       "      <td>76</td>\n",
       "      <td>8653fde533a0120eb564a467879ed69a60e9d87a71173f...</td>\n",
       "    </tr>\n",
       "    <tr>\n",
       "      <th>5</th>\n",
       "      <td>2020-09-28 06:19:00</td>\n",
       "      <td>1</td>\n",
       "      <td>75</td>\n",
       "      <td>7f687569751ed515e2bde78086e1d0a6ab516f06c1f6df...</td>\n",
       "    </tr>\n",
       "    <tr>\n",
       "      <th>6</th>\n",
       "      <td>2020-09-15 15:47:41</td>\n",
       "      <td>2</td>\n",
       "      <td>73</td>\n",
       "      <td>b0df33b3e8d8ba91acdb81a947a229afe5e946521bdb00...</td>\n",
       "    </tr>\n",
       "    <tr>\n",
       "      <th>7</th>\n",
       "      <td>2020-07-31 12:55:00</td>\n",
       "      <td>3</td>\n",
       "      <td>75</td>\n",
       "      <td>5b949e04db3b69c478709006ea851b8bdbb88d13fa6412...</td>\n",
       "    </tr>\n",
       "    <tr>\n",
       "      <th>8</th>\n",
       "      <td>2020-08-13 03:25:29</td>\n",
       "      <td>8</td>\n",
       "      <td>76</td>\n",
       "      <td>7a8b4067491a9f5f849000e1868c10d364f103a2aa50f4...</td>\n",
       "    </tr>\n",
       "    <tr>\n",
       "      <th>9</th>\n",
       "      <td>2020-08-12 00:43:33</td>\n",
       "      <td>10</td>\n",
       "      <td>76</td>\n",
       "      <td>786c93170f33ef82b3f915086832f17cdf0fbd3b0c023c...</td>\n",
       "    </tr>\n",
       "    <tr>\n",
       "      <th>10</th>\n",
       "      <td>2020-08-06 01:56:16</td>\n",
       "      <td>7</td>\n",
       "      <td>76</td>\n",
       "      <td>84d2e916494d656d29117e8621457cc2e7e2646de9cd75...</td>\n",
       "    </tr>\n",
       "    <tr>\n",
       "      <th>11</th>\n",
       "      <td>2019-02-26 10:14:35</td>\n",
       "      <td>5</td>\n",
       "      <td>69</td>\n",
       "      <td>80ce563c838572c14f0221200e1a7e5ee97f4760233f56...</td>\n",
       "    </tr>\n",
       "    <tr>\n",
       "      <th>12</th>\n",
       "      <td>NaN</td>\n",
       "      <td>1</td>\n",
       "      <td>52</td>\n",
       "      <td>6c953bda48ba86da27132b9d4c8096d14289b5293d403a...</td>\n",
       "    </tr>\n",
       "    <tr>\n",
       "      <th>13</th>\n",
       "      <td>NaN</td>\n",
       "      <td>2</td>\n",
       "      <td>52</td>\n",
       "      <td>8f9dcf1be9222a146543d77963fd93ef0279e258fe5131...</td>\n",
       "    </tr>\n",
       "    <tr>\n",
       "      <th>14</th>\n",
       "      <td>NaN</td>\n",
       "      <td>22</td>\n",
       "      <td>60</td>\n",
       "      <td>01f865122bb64a90dfdc300aae3c36047f9ec0a76703df...</td>\n",
       "    </tr>\n",
       "  </tbody>\n",
       "</table>\n",
       "</div>"
      ],
      "text/plain": [
       "                   date positives  total  \\\n",
       "0   2021-02-17 12:20:16         1     74   \n",
       "1   2021-01-13 10:23:02         1     76   \n",
       "2   2021-01-04 19:27:18         1     76   \n",
       "3   2021-01-01 04:07:52         1     76   \n",
       "4   2020-12-22 16:18:22         1     76   \n",
       "5   2020-09-28 06:19:00         1     75   \n",
       "6   2020-09-15 15:47:41         2     73   \n",
       "7   2020-07-31 12:55:00         3     75   \n",
       "8   2020-08-13 03:25:29         8     76   \n",
       "9   2020-08-12 00:43:33        10     76   \n",
       "10  2020-08-06 01:56:16         7     76   \n",
       "11  2019-02-26 10:14:35         5     69   \n",
       "12                  NaN         1     52   \n",
       "13                  NaN         2     52   \n",
       "14                  NaN        22     60   \n",
       "\n",
       "                                               sha256  \n",
       "0   c7b7a6da3a0cfe182be4563a312aca0c6d122176064a2a...  \n",
       "1   9a648ebe1f68753ea4799421f4fa83dfb9996fe43117e0...  \n",
       "2   c6df672e210e7c69eb4d8c6cb1ea6ef54681478c484927...  \n",
       "3   c0a5a0a251bab2b73e5f2f5413ca83cbef5c5bbf3c47bc...  \n",
       "4   8653fde533a0120eb564a467879ed69a60e9d87a71173f...  \n",
       "5   7f687569751ed515e2bde78086e1d0a6ab516f06c1f6df...  \n",
       "6   b0df33b3e8d8ba91acdb81a947a229afe5e946521bdb00...  \n",
       "7   5b949e04db3b69c478709006ea851b8bdbb88d13fa6412...  \n",
       "8   7a8b4067491a9f5f849000e1868c10d364f103a2aa50f4...  \n",
       "9   786c93170f33ef82b3f915086832f17cdf0fbd3b0c023c...  \n",
       "10  84d2e916494d656d29117e8621457cc2e7e2646de9cd75...  \n",
       "11  80ce563c838572c14f0221200e1a7e5ee97f4760233f56...  \n",
       "12  6c953bda48ba86da27132b9d4c8096d14289b5293d403a...  \n",
       "13  8f9dcf1be9222a146543d77963fd93ef0279e258fe5131...  \n",
       "14  01f865122bb64a90dfdc300aae3c36047f9ec0a76703df...  "
      ]
     },
     "execution_count": 9,
     "metadata": {},
     "output_type": "execute_result"
    }
   ],
   "source": [
    "df"
   ]
  },
  {
   "cell_type": "code",
   "execution_count": 10,
   "metadata": {},
   "outputs": [],
   "source": [
    "df['positives']=df['positives'].astype(int)"
   ]
  },
  {
   "cell_type": "code",
   "execution_count": 11,
   "metadata": {},
   "outputs": [
    {
     "name": "stdout",
     "output_type": "stream",
     "text": [
      "<class 'pandas.core.frame.DataFrame'>\n",
      "Int64Index: 15 entries, 0 to 14\n",
      "Data columns (total 4 columns):\n",
      " #   Column     Non-Null Count  Dtype \n",
      "---  ------     --------------  ----- \n",
      " 0   date       12 non-null     object\n",
      " 1   positives  15 non-null     int32 \n",
      " 2   total      15 non-null     int64 \n",
      " 3   sha256     15 non-null     object\n",
      "dtypes: int32(1), int64(1), object(2)\n",
      "memory usage: 540.0+ bytes\n"
     ]
    }
   ],
   "source": [
    "df.info()"
   ]
  },
  {
   "cell_type": "code",
   "execution_count": 12,
   "metadata": {},
   "outputs": [],
   "source": [
    "res=[]\n",
    "for i,rows in df.iterrows():\n",
    "    if rows['positives']>=5:\n",
    "        res.append(rows['sha256'])"
   ]
  },
  {
   "cell_type": "code",
   "execution_count": 13,
   "metadata": {},
   "outputs": [
    {
     "data": {
      "text/plain": [
       "['7a8b4067491a9f5f849000e1868c10d364f103a2aa50f4e5ee54fe5c00a7c04e',\n",
       " '786c93170f33ef82b3f915086832f17cdf0fbd3b0c023cf82ecd29e6d412fadf',\n",
       " '84d2e916494d656d29117e8621457cc2e7e2646de9cd754a93026cfc0872224b',\n",
       " '80ce563c838572c14f0221200e1a7e5ee97f4760233f56ef99d3ec01121ac94a',\n",
       " '01f865122bb64a90dfdc300aae3c36047f9ec0a76703dfd3349b97e6ea016905']"
      ]
     },
     "execution_count": 13,
     "metadata": {},
     "output_type": "execute_result"
    }
   ],
   "source": [
    "res"
   ]
  },
  {
   "cell_type": "code",
   "execution_count": 34,
   "metadata": {},
   "outputs": [
    {
     "data": {
      "text/plain": [
       "<bound method Response.json of <Response [403]>>"
      ]
     },
     "execution_count": 34,
     "metadata": {},
     "output_type": "execute_result"
    }
   ],
   "source": [
    "url ='https://www.virustotal.com/vtapi/v2/file/report'\n",
    "req=requests.get(url)\n",
    "req.status_code\n",
    "req.json"
   ]
  },
  {
   "cell_type": "code",
   "execution_count": 40,
   "metadata": {},
   "outputs": [],
   "source": [
    "def domain_report(domain):    \n",
    "    return requests.get(domain).json()"
   ]
  },
  {
   "cell_type": "code",
   "execution_count": 41,
   "metadata": {},
   "outputs": [
    {
     "ename": "JSONDecodeError",
     "evalue": "Expecting value: line 1 column 1 (char 0)",
     "output_type": "error",
     "traceback": [
      "\u001b[1;31m---------------------------------------------------------------------------\u001b[0m",
      "\u001b[1;31mJSONDecodeError\u001b[0m                           Traceback (most recent call last)",
      "\u001b[1;32m<ipython-input-41-a247faa6f66c>\u001b[0m in \u001b[0;36m<module>\u001b[1;34m\u001b[0m\n\u001b[0;32m      1\u001b[0m \u001b[0murl\u001b[0m \u001b[1;33m=\u001b[0m\u001b[1;34m'https://www.virustotal.com/vtapi/v2/file/report'\u001b[0m\u001b[1;33m\u001b[0m\u001b[1;33m\u001b[0m\u001b[0m\n\u001b[1;32m----> 2\u001b[1;33m \u001b[0mdomain_report\u001b[0m\u001b[1;33m(\u001b[0m\u001b[0murl\u001b[0m\u001b[1;33m)\u001b[0m\u001b[1;33m\u001b[0m\u001b[1;33m\u001b[0m\u001b[0m\n\u001b[0m",
      "\u001b[1;32m<ipython-input-40-8354fcfa37ba>\u001b[0m in \u001b[0;36mdomain_report\u001b[1;34m(domain)\u001b[0m\n\u001b[0;32m      1\u001b[0m \u001b[1;32mdef\u001b[0m \u001b[0mdomain_report\u001b[0m\u001b[1;33m(\u001b[0m\u001b[0mdomain\u001b[0m\u001b[1;33m)\u001b[0m\u001b[1;33m:\u001b[0m\u001b[1;33m\u001b[0m\u001b[1;33m\u001b[0m\u001b[0m\n\u001b[1;32m----> 2\u001b[1;33m     \u001b[1;32mreturn\u001b[0m \u001b[0mrequests\u001b[0m\u001b[1;33m.\u001b[0m\u001b[0mget\u001b[0m\u001b[1;33m(\u001b[0m\u001b[0mdomain\u001b[0m\u001b[1;33m)\u001b[0m\u001b[1;33m.\u001b[0m\u001b[0mjson\u001b[0m\u001b[1;33m(\u001b[0m\u001b[1;33m)\u001b[0m\u001b[1;33m\u001b[0m\u001b[1;33m\u001b[0m\u001b[0m\n\u001b[0m",
      "\u001b[1;32mC:\\ProgramData\\Anaconda3\\lib\\site-packages\\requests\\models.py\u001b[0m in \u001b[0;36mjson\u001b[1;34m(self, **kwargs)\u001b[0m\n\u001b[0;32m    896\u001b[0m                     \u001b[1;31m# used.\u001b[0m\u001b[1;33m\u001b[0m\u001b[1;33m\u001b[0m\u001b[1;33m\u001b[0m\u001b[0m\n\u001b[0;32m    897\u001b[0m                     \u001b[1;32mpass\u001b[0m\u001b[1;33m\u001b[0m\u001b[1;33m\u001b[0m\u001b[0m\n\u001b[1;32m--> 898\u001b[1;33m         \u001b[1;32mreturn\u001b[0m \u001b[0mcomplexjson\u001b[0m\u001b[1;33m.\u001b[0m\u001b[0mloads\u001b[0m\u001b[1;33m(\u001b[0m\u001b[0mself\u001b[0m\u001b[1;33m.\u001b[0m\u001b[0mtext\u001b[0m\u001b[1;33m,\u001b[0m \u001b[1;33m**\u001b[0m\u001b[0mkwargs\u001b[0m\u001b[1;33m)\u001b[0m\u001b[1;33m\u001b[0m\u001b[1;33m\u001b[0m\u001b[0m\n\u001b[0m\u001b[0;32m    899\u001b[0m \u001b[1;33m\u001b[0m\u001b[0m\n\u001b[0;32m    900\u001b[0m     \u001b[1;33m@\u001b[0m\u001b[0mproperty\u001b[0m\u001b[1;33m\u001b[0m\u001b[1;33m\u001b[0m\u001b[0m\n",
      "\u001b[1;32mC:\\ProgramData\\Anaconda3\\lib\\json\\__init__.py\u001b[0m in \u001b[0;36mloads\u001b[1;34m(s, cls, object_hook, parse_float, parse_int, parse_constant, object_pairs_hook, **kw)\u001b[0m\n\u001b[0;32m    355\u001b[0m             \u001b[0mparse_int\u001b[0m \u001b[1;32mis\u001b[0m \u001b[1;32mNone\u001b[0m \u001b[1;32mand\u001b[0m \u001b[0mparse_float\u001b[0m \u001b[1;32mis\u001b[0m \u001b[1;32mNone\u001b[0m \u001b[1;32mand\u001b[0m\u001b[1;33m\u001b[0m\u001b[1;33m\u001b[0m\u001b[0m\n\u001b[0;32m    356\u001b[0m             parse_constant is None and object_pairs_hook is None and not kw):\n\u001b[1;32m--> 357\u001b[1;33m         \u001b[1;32mreturn\u001b[0m \u001b[0m_default_decoder\u001b[0m\u001b[1;33m.\u001b[0m\u001b[0mdecode\u001b[0m\u001b[1;33m(\u001b[0m\u001b[0ms\u001b[0m\u001b[1;33m)\u001b[0m\u001b[1;33m\u001b[0m\u001b[1;33m\u001b[0m\u001b[0m\n\u001b[0m\u001b[0;32m    358\u001b[0m     \u001b[1;32mif\u001b[0m \u001b[0mcls\u001b[0m \u001b[1;32mis\u001b[0m \u001b[1;32mNone\u001b[0m\u001b[1;33m:\u001b[0m\u001b[1;33m\u001b[0m\u001b[1;33m\u001b[0m\u001b[0m\n\u001b[0;32m    359\u001b[0m         \u001b[0mcls\u001b[0m \u001b[1;33m=\u001b[0m \u001b[0mJSONDecoder\u001b[0m\u001b[1;33m\u001b[0m\u001b[1;33m\u001b[0m\u001b[0m\n",
      "\u001b[1;32mC:\\ProgramData\\Anaconda3\\lib\\json\\decoder.py\u001b[0m in \u001b[0;36mdecode\u001b[1;34m(self, s, _w)\u001b[0m\n\u001b[0;32m    335\u001b[0m \u001b[1;33m\u001b[0m\u001b[0m\n\u001b[0;32m    336\u001b[0m         \"\"\"\n\u001b[1;32m--> 337\u001b[1;33m         \u001b[0mobj\u001b[0m\u001b[1;33m,\u001b[0m \u001b[0mend\u001b[0m \u001b[1;33m=\u001b[0m \u001b[0mself\u001b[0m\u001b[1;33m.\u001b[0m\u001b[0mraw_decode\u001b[0m\u001b[1;33m(\u001b[0m\u001b[0ms\u001b[0m\u001b[1;33m,\u001b[0m \u001b[0midx\u001b[0m\u001b[1;33m=\u001b[0m\u001b[0m_w\u001b[0m\u001b[1;33m(\u001b[0m\u001b[0ms\u001b[0m\u001b[1;33m,\u001b[0m \u001b[1;36m0\u001b[0m\u001b[1;33m)\u001b[0m\u001b[1;33m.\u001b[0m\u001b[0mend\u001b[0m\u001b[1;33m(\u001b[0m\u001b[1;33m)\u001b[0m\u001b[1;33m)\u001b[0m\u001b[1;33m\u001b[0m\u001b[1;33m\u001b[0m\u001b[0m\n\u001b[0m\u001b[0;32m    338\u001b[0m         \u001b[0mend\u001b[0m \u001b[1;33m=\u001b[0m \u001b[0m_w\u001b[0m\u001b[1;33m(\u001b[0m\u001b[0ms\u001b[0m\u001b[1;33m,\u001b[0m \u001b[0mend\u001b[0m\u001b[1;33m)\u001b[0m\u001b[1;33m.\u001b[0m\u001b[0mend\u001b[0m\u001b[1;33m(\u001b[0m\u001b[1;33m)\u001b[0m\u001b[1;33m\u001b[0m\u001b[1;33m\u001b[0m\u001b[0m\n\u001b[0;32m    339\u001b[0m         \u001b[1;32mif\u001b[0m \u001b[0mend\u001b[0m \u001b[1;33m!=\u001b[0m \u001b[0mlen\u001b[0m\u001b[1;33m(\u001b[0m\u001b[0ms\u001b[0m\u001b[1;33m)\u001b[0m\u001b[1;33m:\u001b[0m\u001b[1;33m\u001b[0m\u001b[1;33m\u001b[0m\u001b[0m\n",
      "\u001b[1;32mC:\\ProgramData\\Anaconda3\\lib\\json\\decoder.py\u001b[0m in \u001b[0;36mraw_decode\u001b[1;34m(self, s, idx)\u001b[0m\n\u001b[0;32m    353\u001b[0m             \u001b[0mobj\u001b[0m\u001b[1;33m,\u001b[0m \u001b[0mend\u001b[0m \u001b[1;33m=\u001b[0m \u001b[0mself\u001b[0m\u001b[1;33m.\u001b[0m\u001b[0mscan_once\u001b[0m\u001b[1;33m(\u001b[0m\u001b[0ms\u001b[0m\u001b[1;33m,\u001b[0m \u001b[0midx\u001b[0m\u001b[1;33m)\u001b[0m\u001b[1;33m\u001b[0m\u001b[1;33m\u001b[0m\u001b[0m\n\u001b[0;32m    354\u001b[0m         \u001b[1;32mexcept\u001b[0m \u001b[0mStopIteration\u001b[0m \u001b[1;32mas\u001b[0m \u001b[0merr\u001b[0m\u001b[1;33m:\u001b[0m\u001b[1;33m\u001b[0m\u001b[1;33m\u001b[0m\u001b[0m\n\u001b[1;32m--> 355\u001b[1;33m             \u001b[1;32mraise\u001b[0m \u001b[0mJSONDecodeError\u001b[0m\u001b[1;33m(\u001b[0m\u001b[1;34m\"Expecting value\"\u001b[0m\u001b[1;33m,\u001b[0m \u001b[0ms\u001b[0m\u001b[1;33m,\u001b[0m \u001b[0merr\u001b[0m\u001b[1;33m.\u001b[0m\u001b[0mvalue\u001b[0m\u001b[1;33m)\u001b[0m \u001b[1;32mfrom\u001b[0m \u001b[1;32mNone\u001b[0m\u001b[1;33m\u001b[0m\u001b[1;33m\u001b[0m\u001b[0m\n\u001b[0m\u001b[0;32m    356\u001b[0m         \u001b[1;32mreturn\u001b[0m \u001b[0mobj\u001b[0m\u001b[1;33m,\u001b[0m \u001b[0mend\u001b[0m\u001b[1;33m\u001b[0m\u001b[1;33m\u001b[0m\u001b[0m\n",
      "\u001b[1;31mJSONDecodeError\u001b[0m: Expecting value: line 1 column 1 (char 0)"
     ]
    }
   ],
   "source": [
    "url ='https://www.virustotal.com/vtapi/v2/file/report'\n",
    "domain_report(url)\n"
   ]
  },
  {
   "cell_type": "code",
   "execution_count": null,
   "metadata": {},
   "outputs": [],
   "source": []
  }
 ],
 "metadata": {
  "kernelspec": {
   "display_name": "Python 3",
   "language": "python",
   "name": "python3"
  },
  "language_info": {
   "codemirror_mode": {
    "name": "ipython",
    "version": 3
   },
   "file_extension": ".py",
   "mimetype": "text/x-python",
   "name": "python",
   "nbconvert_exporter": "python",
   "pygments_lexer": "ipython3",
   "version": "3.8.5"
  }
 },
 "nbformat": 4,
 "nbformat_minor": 4
}
