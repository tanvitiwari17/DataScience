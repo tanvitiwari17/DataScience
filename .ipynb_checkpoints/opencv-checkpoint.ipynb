{
 "cells": [
  {
   "cell_type": "markdown",
   "metadata": {},
   "source": [
    "##### Reading an Image"
   ]
  },
  {
   "cell_type": "code",
   "execution_count": 7,
   "metadata": {},
   "outputs": [],
   "source": [
    "import cv2  \n",
    "  \n",
    "# path  \n",
    "path = r'E:\\pyWork\\pyProjects\\opencv\\image1.jpg'\n",
    "  \n",
    "# Reading an image in default mode \n",
    "image = cv2.imread(path) \n",
    "  \n",
    "# Window name in which image is displayed \n",
    "window_name = 'image'\n",
    "  \n",
    "# Using cv2.imshow() method  \n",
    "# Displaying the image  \n",
    "cv2.imshow(window_name, image) \n",
    "  \n",
    "#waits for user to press any key  \n",
    "#(this is necessary to avoid Python kernel form crashing) \n",
    "cv2.waitKey(0)  \n",
    "  \n",
    "#closing all open windows  \n",
    "cv2.destroyAllWindows()"
   ]
  },
  {
   "cell_type": "markdown",
   "metadata": {},
   "source": [
    "##### Writing an image"
   ]
  },
  {
   "cell_type": "code",
   "execution_count": null,
   "metadata": {},
   "outputs": [],
   "source": [
    "import cv2\n",
    "\n",
    "img = cv2.imread('E:\\pyWork\\pyProjects\\opencv\\image1.jpg')\n",
    "\n",
    "cv2.imshow(\"Original Image\",img)\n",
    "\n",
    "cv2.imwrite('Output.jpg',img) # creates a clone of img \n",
    "cv2.imwrite('Output.png',img)\n",
    "cv2.waitKey(0)\n",
    "\n",
    "cv2.destroyAllWindows()"
   ]
  },
  {
   "cell_type": "markdown",
   "metadata": {},
   "source": [
    "##### Extracting information about image"
   ]
  },
  {
   "cell_type": "code",
   "execution_count": 8,
   "metadata": {},
   "outputs": [
    {
     "name": "stdout",
     "output_type": "stream",
     "text": [
      "(251, 201, 3)\n",
      "Height pixel value : 251\n",
      "Width pixel value : 201\n",
      "Channel value : 3\n"
     ]
    }
   ],
   "source": [
    "import cv2\n",
    "\n",
    "img = cv2.imread(\"E:\\pyWork\\pyProjects\\opencv\\image1.jpg\")\n",
    "\n",
    "print(img.shape) #image details : height, width,#layers(RGB)\n",
    "\n",
    "print(\"Height pixel value :\", img.shape[0])\n",
    "print(\"Width pixel value :\", img.shape[1])\n",
    "print(\"Channel value :\", img.shape[2])\n",
    "cv2.imshow('Output',img)\n",
    "cv2.waitKey(0)\n",
    "cv2.destroyAllWindows()\n"
   ]
  },
  {
   "cell_type": "markdown",
   "metadata": {},
   "source": [
    "#####  Converting image from RGB to Grayscale"
   ]
  },
  {
   "cell_type": "markdown",
   "metadata": {},
   "source": [
    "method 1"
   ]
  },
  {
   "cell_type": "code",
   "execution_count": 9,
   "metadata": {},
   "outputs": [],
   "source": [
    "import cv2\n",
    "img = cv2.imread(\"E:\\pyWork\\pyProjects\\opencv\\image1.jpg\")\n",
    "\n",
    "cv2.imshow(\"Original\",img)\n",
    "cv2.waitKey(0)\n",
    "\n",
    "# to covert into grayscale:\n",
    "#method 1\n",
    "gray_img = cv2.cvtColor(img,cv2.COLOR_BGR2GRAY)\n",
    "cv2.imshow(\"Gray Scale Image\",gray_img)\n",
    "cv2.waitKey(0)\n",
    "cv2.destroyAllWindows() "
   ]
  },
  {
   "cell_type": "markdown",
   "metadata": {},
   "source": [
    "method 2"
   ]
  },
  {
   "cell_type": "code",
   "execution_count": 10,
   "metadata": {},
   "outputs": [],
   "source": [
    "img = cv2.imread(\"E:\\pyWork\\pyProjects\\opencv\\image1.jpg\",0)\n",
    "\n",
    "cv2.imshow(\"Gray Scale image\",img)\n",
    "\n",
    "cv2.waitKey(0)\n",
    "cv2.destroyAllWindows() "
   ]
  },
  {
   "cell_type": "markdown",
   "metadata": {},
   "source": [
    "##### RGB image to binary image"
   ]
  },
  {
   "cell_type": "code",
   "execution_count": 11,
   "metadata": {},
   "outputs": [],
   "source": [
    "# binary image -> black(0) and white(1) image\n",
    "import cv2\n",
    "\n",
    "#first converting the RGB image to grayscale for simplification\n",
    "\n",
    "img =cv2.imread(\"E:\\pyWork\\pyProjects\\opencv\\image1.jpg\",0)\n",
    "cv2.imshow(\"Gray\",img)\n",
    "\n",
    "cv2.waitKey(0)\n",
    "\n",
    "# creating threshold\n",
    "# ret stors the return value in form of tuple\n",
    "ret,b_w = cv2.threshold(img,127,255,cv2.THRESH_BINARY)\n",
    "# values <=127 : black, 127<values<=255 : white\n",
    "\n",
    "cv2.imshow(\"Binary Image\",b_w)\n",
    "cv2.waitKey(0)\n",
    "\n",
    "\n",
    "cv2.destroyAllWindows()\n"
   ]
  }
 ],
 "metadata": {
  "kernelspec": {
   "display_name": "Python 3",
   "language": "python",
   "name": "python3"
  },
  "language_info": {
   "codemirror_mode": {
    "name": "ipython",
    "version": 3
   },
   "file_extension": ".py",
   "mimetype": "text/x-python",
   "name": "python",
   "nbconvert_exporter": "python",
   "pygments_lexer": "ipython3",
   "version": "3.7.6"
  }
 },
 "nbformat": 4,
 "nbformat_minor": 4
}
