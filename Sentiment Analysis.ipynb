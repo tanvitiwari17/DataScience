{
 "cells": [
  {
   "cell_type": "code",
   "execution_count": 1,
   "metadata": {},
   "outputs": [],
   "source": [
    "import tweepy\n",
    "from textblob import TextBlob"
   ]
  },
  {
   "cell_type": "code",
   "execution_count": 2,
   "metadata": {},
   "outputs": [],
   "source": [
    "consumer_key='sA4Yb4juBQC304snRErN2gY9t'\n",
    "consumer_key_secret='M2RwRwAwrUjgTkmmCcN8LqMP1fyRYJsGLD3uEQm8qXFCZrUSjv'\n",
    "\n",
    "access_token='3134930196-SmYbtc2qOAuBNNVE0tsflSOaAmgJPn7iEjVxCgW'\n",
    "access_token_secret='X2iYw1biIMn6Jn6TqNVf5Yvd9ppzkbA82Fat4CBbPMTzJ'"
   ]
  },
  {
   "cell_type": "code",
   "execution_count": 3,
   "metadata": {},
   "outputs": [],
   "source": [
    "auth= tweepy.OAuthHandler(consumer_key, consumer_key_secret)\n",
    "auth.set_access_token(access_token, access_token_secret)"
   ]
  },
  {
   "cell_type": "code",
   "execution_count": 4,
   "metadata": {},
   "outputs": [],
   "source": [
    "api = tweepy.API(auth)"
   ]
  },
  {
   "cell_type": "code",
   "execution_count": 5,
   "metadata": {},
   "outputs": [],
   "source": [
    "public_tweets = api.search('Sushant Singh Rajput')"
   ]
  },
  {
   "cell_type": "code",
   "execution_count": 6,
   "metadata": {
    "scrolled": true
   },
   "outputs": [
    {
     "name": "stdout",
     "output_type": "stream",
     "text": [
      "RT @Sir_Warrior: We dont go with the trend, we set the trend and we shall flame it up everyday til Justice is served to both Sushant Singh…\n",
      "Sentiment(polarity=-0.2, subjectivity=0.6)\n",
      "Negative\n",
      "RT @HashiTammy: 7 Months Of CBI In SSR Case, CBI team has changed, CBI director has been changed, but nothing is come out. \n",
      "\n",
      "Sorry.. I have…\n",
      "Sentiment(polarity=-0.5, subjectivity=1.0)\n",
      "Negative\n",
      "RT @IamPD172: Justice for Sushant Singh Rajput and Disha Salian. \n",
      "\n",
      "7 Months Of CBI In SSR Case\n",
      "Sentiment(polarity=0.0, subjectivity=0.0)\n",
      "Neutral\n",
      "RT @MadhumitaroyC: 🩸Encourage failure other than success 🩸\n",
      "      Sushant Singh Rajput\n",
      "7 Months Of CBI In SSR Case https://t.co/KLOo1FU5he\n",
      "Sentiment(polarity=-0.04722222222222224, subjectivity=0.225)\n",
      "Negative\n",
      "RT @GlobalSsr: 7 Months Of CBI In SSR\n",
      "The entire World has united for @itsSSR \n",
      "Indians and NRIs demand the truth in peaceful protests sprea…\n",
      "Sentiment(polarity=0.125, subjectivity=0.5625)\n",
      "Positive\n",
      "RT @PriyankaJadav19: Justice For Sushant Singh Rajput.\n",
      "\n",
      "7 Months Of CBI In SSR Case\n",
      "\n",
      ".@ips_nupurprasad \n",
      "@MNageswarRaoIPS \n",
      "@DrJitendraSingh…\n",
      "Sentiment(polarity=0.0, subjectivity=0.0)\n",
      "Neutral\n",
      "RT @aurora_ssr: 7 Months Of CBI In SSR Case ~\n",
      "\n",
      "Same question: Who ki!!ed Sushant Singh Rajput?\n",
      "Same demand: Justice.\n",
      "Sentiment(polarity=0.0, subjectivity=0.125)\n",
      "Neutral\n",
      "RT @parthivpandey21: 11:11 Justice For Sushant Singh Rajput\n",
      "\n",
      "7 Months Of CBI In SSR Case\n",
      "Sentiment(polarity=0.0, subjectivity=0.0)\n",
      "Neutral\n",
      "RT @KanhaKiiDivya: Justice for Sushant Singh Rajput and Disha Salian. \n",
      "\n",
      "@PMOIndia @HMOIndia @ips_nupurprasad @DrJitendraSingh @DoPTGoI @IPS…\n",
      "Sentiment(polarity=0.0, subjectivity=0.0)\n",
      "Neutral\n",
      "RT @GlobalSsr: 7 Months Of CBI In SSR\n",
      "The entire World has united for @itsSSR \n",
      "Indians and NRIs demand the truth in peaceful protests sprea…\n",
      "Sentiment(polarity=0.125, subjectivity=0.5625)\n",
      "Positive\n",
      "RT @i_pallabi: Sushant Singh Rajput...\n",
      "The pure soul...with friends, fans...\n",
      "🦋💫❤️😍\n",
      "\n",
      "#CBINotifyOnSSRCase https://t.co/r7Jl7mOM5H\n",
      "Sentiment(polarity=0.21428571428571427, subjectivity=0.5)\n",
      "Positive\n",
      "Missing SSR 😢😢...We Want Justice For Sushant Singh Rajput 🙏🙏\n",
      "\n",
      "7 Months Of CBI In SSR Case https://t.co/qg7aihNEZy\n",
      "Sentiment(polarity=-0.2, subjectivity=0.05)\n",
      "Negative\n",
      "RT @aurora_ssr: 7 Months Of CBI In SSR Case ~\n",
      "\n",
      "Same question: Who ki!!ed Sushant Singh Rajput?\n",
      "Same demand: Justice.\n",
      "Sentiment(polarity=0.0, subjectivity=0.125)\n",
      "Neutral\n",
      "RT @PiyaliBh: Truth exists; only lies are invented..\n",
      "\n",
      "&amp; The truth is Sushant Singh Rajput was murdered.\n",
      "Lies invented by meme police will b…\n",
      "Sentiment(polarity=0.0, subjectivity=1.0)\n",
      "Neutral\n",
      "RT @PRADIP0412: Let Us Unite For The Revolution SSR\n",
      "&amp; Roar For ⚖️\n",
      "\n",
      "Justice For Sushant Singh Rajput\n",
      "\n",
      "7 Months Of CBI In SSR Case\n",
      "\n",
      "Awesome V…\n",
      "Sentiment(polarity=1.0, subjectivity=1.0)\n",
      "Positive\n"
     ]
    }
   ],
   "source": [
    "for tweet in public_tweets:\n",
    "    print(tweet.text)\n",
    "    analysis = TextBlob(tweet.text)\n",
    "    print(analysis.sentiment)\n",
    "    if analysis.sentiment[0]>0:\n",
    "        print ('Positive')\n",
    "    elif analysis.sentiment[0]<0:\n",
    "        print ('Negative')\n",
    "    else:\n",
    "        print ('Neutral')"
   ]
  },
  {
   "cell_type": "code",
   "execution_count": null,
   "metadata": {},
   "outputs": [],
   "source": []
  }
 ],
 "metadata": {
  "kernelspec": {
   "display_name": "Python 3",
   "language": "python",
   "name": "python3"
  },
  "language_info": {
   "codemirror_mode": {
    "name": "ipython",
    "version": 3
   },
   "file_extension": ".py",
   "mimetype": "text/x-python",
   "name": "python",
   "nbconvert_exporter": "python",
   "pygments_lexer": "ipython3",
   "version": "3.8.5"
  }
 },
 "nbformat": 4,
 "nbformat_minor": 4
}
