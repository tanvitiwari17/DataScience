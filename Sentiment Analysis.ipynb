{
 "cells": [
  {
   "cell_type": "code",
   "execution_count": 1,
   "metadata": {},
   "outputs": [],
   "source": [
    "import tweepy\n",
    "from textblob import TextBlob"
   ]
  },
  {
   "cell_type": "code",
   "execution_count": 2,
   "metadata": {},
   "outputs": [],
   "source": [
    "consumer_key='SHJODHCYty1LkgWo92F48mCWU'\n",
    "consumer_key_secret='u4k1Cu8VRqlYTnoyDDQSFel9BYozKel2ZzzDw7UgtY9SoZLiL9'\n",
    "\n",
    "access_token='3134930196-IZVp3evjugxTT4rUs4STMVrMd2vfFtuUMNwHom5'\n",
    "access_token_secret='wYSIkdn2479m9EitCQkJjFaqgL4XJRzdq23R97Lq7lblE'"
   ]
  },
  {
   "cell_type": "code",
   "execution_count": 3,
   "metadata": {},
   "outputs": [],
   "source": [
    "auth= tweepy.OAuthHandler(consumer_key, consumer_key_secret)\n",
    "auth.set_access_token(access_token, access_token_secret)"
   ]
  },
  {
   "cell_type": "code",
   "execution_count": 4,
   "metadata": {},
   "outputs": [],
   "source": [
    "api = tweepy.API(auth)"
   ]
  },
  {
   "cell_type": "code",
   "execution_count": 8,
   "metadata": {},
   "outputs": [],
   "source": [
    "public_tweets = api.search('Sushant Singh Rajput')"
   ]
  },
  {
   "cell_type": "code",
   "execution_count": 9,
   "metadata": {},
   "outputs": [
    {
     "name": "stdout",
     "output_type": "stream",
     "text": [
      "@bhardwajshiva19 @Swamy39 @rajput_manita But it is replied to Sushant Singh Rajput related tweet\n",
      "Sentiment(polarity=0.0, subjectivity=0.4)\n",
      "Neutral\n",
      "RT @Supernova_layer: We want Justice For Sushant Singh Rajput....\n",
      "\n",
      "#CBIForSonOfBihar https://t.co/jkoiGZCYmO\n",
      "Sentiment(polarity=0.0, subjectivity=0.0)\n",
      "Neutral\n",
      "RT @prankya: Repeat after me!!! \n",
      "\n",
      "SUSHANT SINGH RAJPUT  IS\n",
      "\n",
      "1. PRIDE OF BIHAR \n",
      "2. HONOUR OF BIHAR\n",
      "3. PRESTIGE OF BIHAR\n",
      "4. GLORY OF BIHAR\n",
      "\n",
      "W…\n",
      "Sentiment(polarity=0.0, subjectivity=0.0)\n",
      "Neutral\n",
      "RT @prankya: Repeat after me!!! \n",
      "\n",
      "SUSHANT SINGH RAJPUT  IS\n",
      "\n",
      "1. PRIDE OF BIHAR \n",
      "2. HONOUR OF BIHAR\n",
      "3. PRESTIGE OF BIHAR\n",
      "4. GLORY OF BIHAR\n",
      "\n",
      "W…\n",
      "Sentiment(polarity=0.0, subjectivity=0.0)\n",
      "Neutral\n",
      "RT @MeenaDasNarayan: @ishkarnBHANDARI Thanks ishkaran and @Swamy39  pls see details https://t.co/XeZ7dVsb1r\n",
      "Sentiment(polarity=0.2, subjectivity=0.2)\n",
      "Positive\n",
      "RT @prankya: Repeat after me!!! \n",
      "\n",
      "SUSHANT SINGH RAJPUT  IS\n",
      "\n",
      "1. PRIDE OF BIHAR \n",
      "2. HONOUR OF BIHAR\n",
      "3. PRESTIGE OF BIHAR\n",
      "4. GLORY OF BIHAR\n",
      "\n",
      "W…\n",
      "Sentiment(polarity=0.0, subjectivity=0.0)\n",
      "Neutral\n",
      "RT @srishirajIND: Sushant Singh Rajput Soul is still looking for justice. \n",
      "\n",
      "Raise your voice if you also want\n",
      "     👇👇\n",
      "#CBIForSonOfBihar htt…\n",
      "Sentiment(polarity=0.0, subjectivity=0.0)\n",
      "Neutral\n",
      "RT @varshapatel401: #CBIForSonOfBihar\n",
      "\n",
      "@Swamy39 @ishkarnBHANDARI @iChiragPaswan @ZeeNews @Zee_Hindustan @nishikant_dubey @RoopaSpeaks @koen…\n",
      "Sentiment(polarity=0.0, subjectivity=0.0)\n",
      "Neutral\n",
      "RT @iRaviTiwari: Today I reached Patna Sushant Singh Rajput's house from Delhi. A CBI inquiry is also being demanded by it. We have to keep…\n",
      "Sentiment(polarity=0.0, subjectivity=0.0)\n",
      "Neutral\n",
      "RT @theRudestRambo: Whatever he did did on his own, he played like a true champion and the best thing is that he never become a bootlicker…\n",
      "Sentiment(polarity=0.65, subjectivity=0.65)\n",
      "Positive\n",
      "@PMOIndia #justice for Sushant Singh Rajput \n",
      "#CBI inquiry for Sushant sing Rajput..🙏🙏🙏🙏🙏\n",
      "Sentiment(polarity=0.0, subjectivity=0.0)\n",
      "Neutral\n",
      "RT @skkakarwal: Today I reached Patna Sushant Singh Rajput's house from Delhi. A CBI inquiry is also being demanded by it. We have to keep…\n",
      "Sentiment(polarity=0.0, subjectivity=0.0)\n",
      "Neutral\n",
      "@ishkarnBHANDARI Please go through this article. Thank you for your support.. Blessings ..peace and love to you and… https://t.co/dlZdTTHeBS\n",
      "Sentiment(polarity=0.5, subjectivity=0.6)\n",
      "Positive\n",
      "RT @iRaviTiwari: Today I reached Patna Sushant Singh Rajput's house from Delhi. A CBI inquiry is also being demanded by it. We have to keep…\n",
      "Sentiment(polarity=0.0, subjectivity=0.0)\n",
      "Neutral\n",
      "RT @prankya: Repeat after me!!! \n",
      "\n",
      "SUSHANT SINGH RAJPUT  IS\n",
      "\n",
      "1. PRIDE OF BIHAR \n",
      "2. HONOUR OF BIHAR\n",
      "3. PRESTIGE OF BIHAR\n",
      "4. GLORY OF BIHAR\n",
      "\n",
      "W…\n",
      "Sentiment(polarity=0.0, subjectivity=0.0)\n",
      "Neutral\n"
     ]
    }
   ],
   "source": [
    "for tweet in public_tweets:\n",
    "    print(tweet.text)\n",
    "    analysis = TextBlob(tweet.text)\n",
    "    print(analysis.sentiment)\n",
    "    if analysis.sentiment[0]>0:\n",
    "        print ('Positive')\n",
    "    elif analysis.sentiment[0]<0:\n",
    "        print ('Negative')\n",
    "    else:\n",
    "        print ('Neutral')"
   ]
  },
  {
   "cell_type": "code",
   "execution_count": null,
   "metadata": {},
   "outputs": [],
   "source": []
  }
 ],
 "metadata": {
  "kernelspec": {
   "display_name": "Python 3",
   "language": "python",
   "name": "python3"
  },
  "language_info": {
   "codemirror_mode": {
    "name": "ipython",
    "version": 3
   },
   "file_extension": ".py",
   "mimetype": "text/x-python",
   "name": "python",
   "nbconvert_exporter": "python",
   "pygments_lexer": "ipython3",
   "version": "3.7.6"
  }
 },
 "nbformat": 4,
 "nbformat_minor": 4
}
