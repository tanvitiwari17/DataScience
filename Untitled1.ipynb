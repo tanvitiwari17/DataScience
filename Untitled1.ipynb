{
 "cells": [
  {
   "cell_type": "code",
   "execution_count": 2,
   "metadata": {},
   "outputs": [
    {
     "name": "stdout",
     "output_type": "stream",
     "text": [
      "Red 4\n",
      "Blue 80\n"
     ]
    }
   ],
   "source": [
    "class Vehicle ( ):\n",
    "    def __init__(self, color):\n",
    "        self.color=color\n",
    "class FourWheeler(Vehicle):\n",
    "    def __init__(self,no_of_gears,color):\n",
    "        super().__init__(color)\n",
    "        self.no_of_gears=no_of_gears\n",
    "class TwoWheeler(Vehicle):\n",
    "    def __init__(self,engine_cc):\n",
    "        super().__init__(\"Red\")\n",
    "        self.engine_cc=engine_cc\n",
    "        self.color=\"Blue\"\n",
    " \n",
    "maruti=FourWheeler(4, \"Red\")\n",
    "print (maruti.color,maruti.no_of_gears)\n",
    "activa=TwoWheeler(80)\n",
    "print(activa.color, activa.engine_cc)"
   ]
  },
  {
   "cell_type": "code",
   "execution_count": 6,
   "metadata": {},
   "outputs": [],
   "source": [
    "class ClassA:\n",
    "    def first_method(self):\n",
    "        print(\"Johnny Johnny..., \")\n",
    "    def second_method (self):\n",
    "        print (\"Yes Papa. \")\n",
    "    def third_method (self):\n",
    "        print(\"Eating Sugar..., \")\n",
    "class ClassB (ClassA):\n",
    "    def second_method (self):\n",
    "        super () .first_method ()\n",
    "        super ().second_method ()\n",
    "        super() .third_method ()\n",
    "        print(\"No Papa. \")\n",
    "    def third_method (self):\n",
    "        print(\"Telling Lies..., \")\n",
    "class ClassC (ClassB):\n",
    "    def first_method (self):\n",
    "        print(\"Open your mouth..., Ha. Ha. Ha.\")\n",
    "    def second_method (self):\n",
    "        print (\"No Papa. \")\n",
    "    def third_method (self):\n",
    "        super().second_method()\n",
    "        super() .third_method()\n",
    "        self. second_method()\n",
    "obj_A=ClassA()\n",
    "obj_B=ClassB()\n",
    "obj_C=ClassC()"
   ]
  },
  {
   "cell_type": "code",
   "execution_count": 7,
   "metadata": {},
   "outputs": [
    {
     "name": "stdout",
     "output_type": "stream",
     "text": [
      "Johnny Johnny..., \n",
      "Yes Papa. \n",
      "Eating Sugar..., \n",
      "No Papa. \n",
      "Telling Lies..., \n",
      "No Papa. \n",
      "Open your mouth..., Ha. Ha. Ha.\n"
     ]
    }
   ],
   "source": [
    "obj_C.third_method()\n",
    "\n",
    "obj_C.first_method() "
   ]
  },
  {
   "cell_type": "code",
   "execution_count": 16,
   "metadata": {},
   "outputs": [],
   "source": [
    "def display_cat_details(color, *names):\n",
    "   pass\n",
    "display_cat_details('Brown',\"Fluffy\",'Snow') "
   ]
  },
  {
   "cell_type": "code",
   "execution_count": 3,
   "metadata": {},
   "outputs": [],
   "source": [
    "name = 'python' \n",
    "while bool(name) == False: \n",
    "    print('hi')"
   ]
  },
  {
   "cell_type": "code",
   "execution_count": 5,
   "metadata": {},
   "outputs": [
    {
     "name": "stdout",
     "output_type": "stream",
     "text": [
      "3\n"
     ]
    }
   ],
   "source": [
    "def myfunc(x, y, z, a): \n",
    "    print (x + y) \n",
    "    \n",
    "nums = [1, 2, 3, 4] \n",
    "myfunc(*nums)"
   ]
  },
  {
   "cell_type": "code",
   "execution_count": 6,
   "metadata": {},
   "outputs": [
    {
     "name": "stdout",
     "output_type": "stream",
     "text": [
      "Value of expression is 100\n"
     ]
    }
   ],
   "source": [
    "var = 100 \n",
    "if ( var == 100 ) : \n",
    "    print (\"Value of expression is 100\")"
   ]
  },
  {
   "cell_type": "code",
   "execution_count": 8,
   "metadata": {},
   "outputs": [
    {
     "data": {
      "text/plain": [
       "'Ӓ'"
      ]
     },
     "execution_count": 8,
     "metadata": {},
     "output_type": "execute_result"
    }
   ],
   "source": [
    "chr(1234)"
   ]
  },
  {
   "cell_type": "code",
   "execution_count": 9,
   "metadata": {},
   "outputs": [
    {
     "name": "stdout",
     "output_type": "stream",
     "text": [
      "<zip object at 0x00000244C9DA8E00>\n"
     ]
    }
   ],
   "source": [
    "a = range(5) \n",
    "b = range(10) \n",
    "print(zip(a,b))"
   ]
  },
  {
   "cell_type": "code",
   "execution_count": 11,
   "metadata": {},
   "outputs": [
    {
     "name": "stdout",
     "output_type": "stream",
     "text": [
      "1\n",
      "2\n",
      "1\n",
      "3\n"
     ]
    }
   ],
   "source": [
    "values = [1, 2, 1, 3] \n",
    "nums = set(values) \n",
    "def checkit(num): \n",
    "    if num in nums: return True \n",
    "    else: return False \n",
    "    \n",
    "for i in filter(checkit, values): \n",
    "    print (i)"
   ]
  },
  {
   "cell_type": "code",
   "execution_count": 14,
   "metadata": {},
   "outputs": [
    {
     "name": "stdout",
     "output_type": "stream",
     "text": [
      "1\n",
      "2\n",
      "3\n",
      "4\n"
     ]
    }
   ],
   "source": [
    "x = 1  \n",
    "while True:  \n",
    "    if x % 5 == 0:  \n",
    "        break  \n",
    "    print(x)   \n",
    "    x += 1  "
   ]
  },
  {
   "cell_type": "code",
   "execution_count": null,
   "metadata": {},
   "outputs": [],
   "source": []
  }
 ],
 "metadata": {
  "kernelspec": {
   "display_name": "Python 3",
   "language": "python",
   "name": "python3"
  }
 },
 "nbformat": 4,
 "nbformat_minor": 4
}
