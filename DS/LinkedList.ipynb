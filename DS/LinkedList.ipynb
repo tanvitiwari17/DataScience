{
 "cells": [
  {
   "cell_type": "code",
   "execution_count": 36,
   "metadata": {},
   "outputs": [],
   "source": [
    "class node:\n",
    "    def __init__(self,data=None):\n",
    "        self.data = data\n",
    "        self.next = None\n",
    "    \n",
    "class Linked_List:\n",
    "    def __init__(self):\n",
    "        self.head= node()\n",
    "        \n",
    "    def append(self,data):\n",
    "        new_node = node(data)\n",
    "        cur = self.head\n",
    "        while cur.next != None:\n",
    "            cur= cur.next\n",
    "        cur.next = new_node\n",
    "    \n",
    "    def length(self):\n",
    "        cur = self.head\n",
    "        total = 0\n",
    "        while cur.next!=None:\n",
    "            total+=1\n",
    "            cur = cur.next\n",
    "        return total\n",
    "    \n",
    "    def display(self):\n",
    "        elems = []\n",
    "        cur_node = self.head\n",
    "        while cur_node.next != None:\n",
    "            cur_node = cur_node.next\n",
    "            elems.append(cur_node.data)\n",
    "        print(elems)  \n",
    "        \n",
    "    def get(self,index):\n",
    "        if index>=self.length():\n",
    "            print(\"ERROR: Index Out of Range!\")\n",
    "            return None\n",
    "        cur_idx = 0\n",
    "        cur_node = self.head\n",
    "        while True:\n",
    "            cur_node = cur_node.next\n",
    "            if cur_idx == index:\n",
    "                return cur_node.data\n",
    "            cur_idx +=1\n",
    "            \n",
    "    def erase(self,index):\n",
    "        if index>=self.length():\n",
    "            print(\"ERROR: Index Out of Range!\")\n",
    "            return None\n",
    "        cur_idx = 0\n",
    "        cur_node = self.head\n",
    "        while True:\n",
    "            last_node = cur_node\n",
    "            cur_node = cur_node.next\n",
    "            if cur_idx == index:\n",
    "                last_node.next = cur_node.next\n",
    "                return\n",
    "            cur_idx +=1                "
   ]
  },
  {
   "cell_type": "code",
   "execution_count": 37,
   "metadata": {},
   "outputs": [],
   "source": [
    "my_list = Linked_List()"
   ]
  },
  {
   "cell_type": "code",
   "execution_count": 38,
   "metadata": {},
   "outputs": [
    {
     "name": "stdout",
     "output_type": "stream",
     "text": [
      "[]\n"
     ]
    }
   ],
   "source": [
    "my_list.display()"
   ]
  },
  {
   "cell_type": "code",
   "execution_count": 39,
   "metadata": {},
   "outputs": [],
   "source": [
    "my_list.append(1)\n",
    "my_list.append(2)\n",
    "my_list.append(3)\n",
    "my_list.append(4)"
   ]
  },
  {
   "cell_type": "code",
   "execution_count": 40,
   "metadata": {},
   "outputs": [
    {
     "name": "stdout",
     "output_type": "stream",
     "text": [
      "[1, 2, 3, 4]\n"
     ]
    }
   ],
   "source": [
    "my_list.display()"
   ]
  },
  {
   "cell_type": "code",
   "execution_count": 41,
   "metadata": {},
   "outputs": [
    {
     "name": "stdout",
     "output_type": "stream",
     "text": [
      "element at 2nd index: 3\n"
     ]
    }
   ],
   "source": [
    "print(\"element at 2nd index: %d\" %my_list.get(2))"
   ]
  },
  {
   "cell_type": "code",
   "execution_count": 42,
   "metadata": {},
   "outputs": [],
   "source": [
    "my_list.erase(1)"
   ]
  },
  {
   "cell_type": "code",
   "execution_count": 43,
   "metadata": {},
   "outputs": [
    {
     "name": "stdout",
     "output_type": "stream",
     "text": [
      "[1, 3, 4]\n"
     ]
    }
   ],
   "source": [
    "my_list.display()"
   ]
  }
 ],
 "metadata": {
  "kernelspec": {
   "display_name": "Python 3",
   "language": "python",
   "name": "python3"
  },
  "language_info": {
   "codemirror_mode": {
    "name": "ipython",
    "version": 3
   },
   "file_extension": ".py",
   "mimetype": "text/x-python",
   "name": "python",
   "nbconvert_exporter": "python",
   "pygments_lexer": "ipython3",
   "version": "3.7.6"
  }
 },
 "nbformat": 4,
 "nbformat_minor": 4
}
