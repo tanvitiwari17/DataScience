{
 "cells": [
  {
   "cell_type": "code",
   "execution_count": 30,
   "metadata": {},
   "outputs": [],
   "source": [
    "class node:\n",
    "    def __init__(self,value=None):\n",
    "        self.value = value\n",
    "        self.left_child = None\n",
    "        self.right_child = None\n",
    "        self.parent = None      # pointer to parent node in tree"
   ]
  },
  {
   "cell_type": "code",
   "execution_count": 31,
   "metadata": {},
   "outputs": [],
   "source": [
    "class binary_search_tree:\n",
    "    def __init__(self):\n",
    "        self.root = None\n",
    "        \n",
    "    def insert(self,value):\n",
    "        if self.root == None:\n",
    "            self.root = node(value)\n",
    "        else:\n",
    "            self._insert(value,self.root) #private fn : recursive fn\n",
    "            \n",
    "    def _insert(self,value,cur_node):\n",
    "        if value < cur_node.value:\n",
    "            if cur_node.left_child == None :\n",
    "                cur_node.left_child = node(value)\n",
    "                cur_node.left_child.parent = cur_node\n",
    "            else:\n",
    "                self._insert(value,cur_node.left_child)\n",
    "                \n",
    "        elif value > cur_node.value:\n",
    "            if cur_node.right_child == None:\n",
    "                cur_node.right_child = node(value)\n",
    "                cur_node.right_child.parent = cur_node # set parent            else:\n",
    "            else:\n",
    "                self._insert(value,cur_node.right_child)\n",
    "        else:\n",
    "            print(\"Value already in tree\")\n",
    "            \n",
    "    def print_tree(self):\n",
    "        if self.root!= None:\n",
    "            self._print_tree(self.root)\n",
    "           \n",
    "    def _print_tree(self,cur_node):\n",
    "        if cur_node != None:\n",
    "            self._print_tree(cur_node.left_child)\n",
    "            print(str(cur_node.value))\n",
    "            self._print_tree(cur_node.right_child)\n",
    "            \n",
    "    def height(self):\n",
    "        if self.root!= None:\n",
    "            return self._height(self.root,0)\n",
    "        else:\n",
    "            return 0\n",
    "    \n",
    "    def _height(self,cur_node,cur_height):\n",
    "        if cur_node == None: \n",
    "            return cur_height\n",
    "        left_height = self._height(cur_node.left_child,cur_height+1)\n",
    "        right_height = self._height(cur_node.right_child,cur_height+1)\n",
    "        return max(left_height,right_height)\n",
    "    \n",
    "    #returns the node with specified input value\n",
    "    def find(self,value):\n",
    "        if self.root!=None:\n",
    "            return self._find(value,self.root)\n",
    "        else:\n",
    "            return None\n",
    "    \n",
    "    def _find(self,value, cur_node):\n",
    "        if value == cur_node.value:\n",
    "            return cur_node\n",
    "        elif value < cur_node.value and cur_node.left_child !=None:\n",
    "            return self._find(value,cur_node.left_child)\n",
    "        elif value > cur_node.value and cur_node.right_child !=None:\n",
    "            return self._find(value,cur_node.right_child)     \n",
    "    \n",
    "    # returns true if the value exists in the tree    \n",
    "    def search(self,value):\n",
    "        if self.root != None:\n",
    "            return self._search(value,self.root)\n",
    "        else:\n",
    "            return False\n",
    "        \n",
    "        \n",
    "    def _search(self,value, cur_node):\n",
    "        if value == cur_node.value:\n",
    "            return True\n",
    "        elif value < cur_node.value and cur_node.left_child!=None:\n",
    "            return self._search(value, cur_node.left_child)\n",
    "        elif value>cur_node.value and cur_node.right_child!= None:\n",
    "            return self._search(value,cur_node.right_child)\n",
    "        return False\n",
    "    \n",
    "    def delete_value(self,value):\n",
    "        return self.delete_node(self.find(value))\n",
    "    \n",
    "    def delete_node(self,node):\n",
    "        \n",
    "        # returns the node with min value on tree rooted at input node\n",
    "        def min_value_node(n):\n",
    "            current =n\n",
    "            while current.left_child != None:\n",
    "                current = current.left_child\n",
    "            return current\n",
    "        \n",
    "        # returns the number of children for the specified node\n",
    "        def  num_children(n):\n",
    "            num_children = 0\n",
    "            if n.left_child != None : \n",
    "                num_children +=1\n",
    "            if n.right_child!= None:\n",
    "                num_children+=1\n",
    "            return num_children   \n",
    "        \n",
    "        #get the parent of the node to be deleted\n",
    "        node_parent = node.parent\n",
    "        #get the number of children of the node to be deleted\n",
    "        node_children = num_children(node)\n",
    "        \n",
    "        # break operations into different cases based on the \n",
    "        # structure of the tree and node to be deleted\n",
    "        \n",
    "        # Case 1 ! (node has no children)\n",
    "        if node_children ==0:\n",
    "            #remove reference to the node from the parent\n",
    "            if node_parent.left_child == node:\n",
    "                node_parent.left_child = None\n",
    "            else:\n",
    "                node_parent.right_child = None\n",
    "                \n",
    "        # Case 2 ! ( node has a single child)\n",
    "        if node_children == 1:\n",
    "            # get the single child node\n",
    "            if node.left_child != None:\n",
    "                child= node.left_child\n",
    "            else:\n",
    "                child = node.right_child\n",
    "            \n",
    "            # replace the node to be deleted with its child\n",
    "            if node_parent.left_child == node:\n",
    "                node_parent.left_child = child\n",
    "            else:\n",
    "                node_parent.right_child = child\n",
    "                \n",
    "            # correct the parent pointer in node\n",
    "            child.parent = node_parent\n",
    "            \n",
    "        # Case 3 ! ( node has two children)\n",
    "        if node_children ==2:\n",
    "            # get the inorder successor of the deleted node\n",
    "            successor = min_value_node(node.right_child)\n",
    "            \n",
    "            # copy the inorder successor's value to the node formerly\n",
    "            # holding the value we wished to delete\n",
    "            node.value = successor.value\n",
    "            \n",
    "            # delete the inorder successor now that it's value was\n",
    "            # copied into the other node\n",
    "            self.delete_node(successor)\n",
    "            \n",
    "        \n",
    "#def fill_tree(tree,num_elems=100,max_int = 1000):\n",
    "#    from random import randint\n",
    "#    for _ in range(num_elems):\n",
    "#        cur_elem = randint(0,max_int)\n",
    "#        tree.insert(cur_elem)\n",
    "#    return tree\n",
    "            "
   ]
  },
  {
   "cell_type": "code",
   "execution_count": 32,
   "metadata": {},
   "outputs": [
    {
     "name": "stdout",
     "output_type": "stream",
     "text": [
      "4\n",
      "5\n",
      "6\n",
      "9\n",
      "10\n",
      "11\n",
      "tree height:4\n"
     ]
    }
   ],
   "source": [
    "tree = binary_search_tree()\n",
    "tree.insert(5)\n",
    "tree.insert(4)\n",
    "tree.insert(6)\n",
    "tree.insert(10)\n",
    "tree.insert(9)\n",
    "tree.insert(11)\n",
    "\n",
    "tree.print_tree()\n",
    "\n",
    "print(\"tree height:\"+ str(tree.height()))"
   ]
  },
  {
   "cell_type": "code",
   "execution_count": 33,
   "metadata": {},
   "outputs": [
    {
     "name": "stdout",
     "output_type": "stream",
     "text": [
      "True\n"
     ]
    }
   ],
   "source": [
    "print(tree.search(10))"
   ]
  },
  {
   "cell_type": "code",
   "execution_count": 34,
   "metadata": {},
   "outputs": [
    {
     "name": "stdout",
     "output_type": "stream",
     "text": [
      "False\n"
     ]
    }
   ],
   "source": [
    "print(tree.search(30))"
   ]
  },
  {
   "cell_type": "code",
   "execution_count": 35,
   "metadata": {},
   "outputs": [],
   "source": [
    "tree.delete_value(5)\n",
    "tree.delete_value(9)\n",
    "tree.delete_value(11)"
   ]
  },
  {
   "cell_type": "code",
   "execution_count": 36,
   "metadata": {},
   "outputs": [
    {
     "name": "stdout",
     "output_type": "stream",
     "text": [
      "4\n",
      "6\n",
      "10\n"
     ]
    }
   ],
   "source": [
    "tree.print_tree()"
   ]
  }
 ],
 "metadata": {
  "kernelspec": {
   "display_name": "Python 3",
   "language": "python",
   "name": "python3"
  },
  "language_info": {
   "codemirror_mode": {
    "name": "ipython",
    "version": 3
   },
   "file_extension": ".py",
   "mimetype": "text/x-python",
   "name": "python",
   "nbconvert_exporter": "python",
   "pygments_lexer": "ipython3",
   "version": "3.7.6"
  }
 },
 "nbformat": 4,
 "nbformat_minor": 4
}
