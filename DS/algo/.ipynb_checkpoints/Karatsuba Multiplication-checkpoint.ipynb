{
 "cells": [
  {
   "cell_type": "markdown",
   "metadata": {},
   "source": [
    "### Karatsuba Multiplication"
   ]
  },
  {
   "cell_type": "code",
   "execution_count": null,
   "metadata": {},
   "outputs": [],
   "source": [
    "def karatsuba(num1,num2):\n",
    "    len1=len(num1)\n",
    "    len2=len(num2)\n",
    "    if len1==1 and len2==1:\n",
    "        return num1*num2\n",
    "    else:\n",
    "        a=num1[:len1//2]\n",
    "        b=num1[len1//2:]\n",
    "        c=num2[:len2//2]\n",
    "        d=num2[len2//2:]\n",
    "        \n",
    "        r1=karatsuba(a,c)\n",
    "        r2=karatsuba(b,d)\n",
    "        r3=karatsuba(a+b,c+d)\n",
    "        return pow(10,len1)*r1+pow()\n",
    "    \n",
    "    "
   ]
  }
 ],
 "metadata": {
  "kernelspec": {
   "display_name": "Python 3",
   "language": "python",
   "name": "python3"
  },
  "language_info": {
   "codemirror_mode": {
    "name": "ipython",
    "version": 3
   },
   "file_extension": ".py",
   "mimetype": "text/x-python",
   "name": "python",
   "nbconvert_exporter": "python",
   "pygments_lexer": "ipython3",
   "version": "3.8.5"
  }
 },
 "nbformat": 4,
 "nbformat_minor": 4
}
