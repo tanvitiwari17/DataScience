{
 "cells": [
  {
   "cell_type": "code",
   "execution_count": 10,
   "metadata": {},
   "outputs": [
    {
     "name": "stdout",
     "output_type": "stream",
     "text": [
      "4\n",
      "ABBA\n",
      "Yes\n",
      "ABBA\n",
      "ABBA\n"
     ]
    }
   ],
   "source": [
    "n = int(input())\n",
    "s=input()\n",
    "s1=s[-1::-1]\n",
    "if s==s1:\n",
    "    print(\"Yes\")\n",
    "else:\n",
    "    print(\"No\")  \n",
    "print(s)\n",
    "print(s1)"
   ]
  },
  {
   "cell_type": "code",
   "execution_count": 12,
   "metadata": {},
   "outputs": [
    {
     "name": "stdout",
     "output_type": "stream",
     "text": [
      "hello stars\n",
      "hsetlalros\n"
     ]
    }
   ],
   "source": [
    "s1,s2= map(str,input().split())\n",
    "pair=list(zip(s1,s2))\n",
    "temp=[]\n",
    "for i in pair:\n",
    "    temp.append(\"\".join(i))\n",
    "print(\"\".join(temp))"
   ]
  }
 ],
 "metadata": {
  "kernelspec": {
   "display_name": "Python 3",
   "language": "python",
   "name": "python3"
  },
  "language_info": {
   "codemirror_mode": {
    "name": "ipython",
    "version": 3
   },
   "file_extension": ".py",
   "mimetype": "text/x-python",
   "name": "python",
   "nbconvert_exporter": "python",
   "pygments_lexer": "ipython3",
   "version": "3.7.6"
  }
 },
 "nbformat": 4,
 "nbformat_minor": 4
}
