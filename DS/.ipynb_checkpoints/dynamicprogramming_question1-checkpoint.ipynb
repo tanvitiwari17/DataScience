{
 "cells": [
  {
   "cell_type": "markdown",
   "metadata": {},
   "source": [
    "##### Find  number of sets of numbers that add upto 16.\n",
    "##### Given: [2,4,6,10]"
   ]
  },
  {
   "cell_type": "code",
   "execution_count": 8,
   "metadata": {},
   "outputs": [],
   "source": [
    "def dp(arr, total,i,mem): # memoized method , O(total.n)\n",
    "    key = str(total)+':'+str(i)\n",
    "    if key in mem:\n",
    "        return mem[key]\n",
    "    if total == 0:\n",
    "        return 1\n",
    "    elif total < 0:\n",
    "        return 0\n",
    "    elif i<0:\n",
    "        return 0\n",
    "    elif total < arr[i]:\n",
    "        to_return = dp(arr,total,i-1,mem)\n",
    "    else:\n",
    "        to_return= dp(arr,total-arr[i],i-1,mem)+ dp(arr,total,i-1,mem)\n",
    "    mem[key]=to_return\n",
    "    return to_return\n",
    "\n",
    "\n",
    "def count_sets_dp(arr,total):\n",
    "    mem={} # empty dict or hash table\n",
    "    return dp(arr,total,len(arr)-1,mem)"
   ]
  },
  {
   "cell_type": "code",
   "execution_count": 12,
   "metadata": {},
   "outputs": [
    {
     "data": {
      "text/plain": [
       "2"
      ]
     },
     "execution_count": 12,
     "metadata": {},
     "output_type": "execute_result"
    }
   ],
   "source": [
    "count_sets_dp([2,4,6,10],16)"
   ]
  },
  {
   "cell_type": "code",
   "execution_count": 13,
   "metadata": {},
   "outputs": [],
   "source": [
    "#recursion method \n",
    "#less efficient\n",
    "\n",
    "def count_sets(arr,total):\n",
    "    return rec(arr,total,len(arr)-1)\n",
    "\n",
    "def rec(arr, total,i): \n",
    "    if total == 0:\n",
    "        return 1\n",
    "    elif total < 0:\n",
    "        return 0\n",
    "    elif i<0:\n",
    "        return 0\n",
    "    elif total < arr[i]:\n",
    "        return rec(arr,total,i-1)\n",
    "    else:\n",
    "        return rec(arr,total-arr[i],i-1)+ rec(arr,total,i-1)"
   ]
  },
  {
   "cell_type": "code",
   "execution_count": 14,
   "metadata": {},
   "outputs": [
    {
     "data": {
      "text/plain": [
       "2"
      ]
     },
     "execution_count": 14,
     "metadata": {},
     "output_type": "execute_result"
    }
   ],
   "source": [
    "count_sets([2,4,6,10],16)"
   ]
  }
 ],
 "metadata": {
  "kernelspec": {
   "display_name": "Python 3",
   "language": "python",
   "name": "python3"
  },
  "language_info": {
   "codemirror_mode": {
    "name": "ipython",
    "version": 3
   },
   "file_extension": ".py",
   "mimetype": "text/x-python",
   "name": "python",
   "nbconvert_exporter": "python",
   "pygments_lexer": "ipython3",
   "version": "3.7.6"
  }
 },
 "nbformat": 4,
 "nbformat_minor": 4
}
