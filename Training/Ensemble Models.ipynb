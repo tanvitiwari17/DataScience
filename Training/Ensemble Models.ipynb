{
 "cells": [
  {
   "cell_type": "markdown",
   "metadata": {},
   "source": [
    "## Ensemble Models\n",
    "\n",
    "Instead of using a single model, use group of models and based on the predictions of each moel, make a final decision\n",
    "\n",
    "##### Pros:\n",
    "* capture most of the diverse signals or patterns\n",
    "* less incorrect predictions\n",
    "* reduce overfitting\n",
    "* performance\n",
    "\n",
    "##### Cons:\n",
    "* Increase complexity\n",
    "* not interpretable as a whole\n",
    "* increase time complexity and computational requirement.\n"
   ]
  },
  {
   "cell_type": "code",
   "execution_count": null,
   "metadata": {},
   "outputs": [],
   "source": []
  }
 ],
 "metadata": {
  "kernelspec": {
   "display_name": "Python 3",
   "language": "python",
   "name": "python3"
  },
  "language_info": {
   "codemirror_mode": {
    "name": "ipython",
    "version": 3
   },
   "file_extension": ".py",
   "mimetype": "text/x-python",
   "name": "python",
   "nbconvert_exporter": "python",
   "pygments_lexer": "ipython3",
   "version": "3.8.5"
  }
 },
 "nbformat": 4,
 "nbformat_minor": 4
}
