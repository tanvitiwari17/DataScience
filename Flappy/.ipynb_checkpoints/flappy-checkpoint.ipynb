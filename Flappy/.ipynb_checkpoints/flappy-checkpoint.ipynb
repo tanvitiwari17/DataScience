{
 "cells": [
  {
   "cell_type": "code",
   "execution_count": null,
   "metadata": {},
   "outputs": [],
   "source": [
    "import pygame\n",
    "import neat\n",
    "import time\n",
    "\n",
    "import os\n",
    "import random"
   ]
  },
  {
   "cell_type": "code",
   "execution_count": null,
   "metadata": {},
   "outputs": [],
   "source": [
    "WIN_WIDTH = 400\n",
    "WIN_HEIGHT = 600"
   ]
  },
  {
   "cell_type": "code",
   "execution_count": null,
   "metadata": {},
   "outputs": [],
   "source": [
    "BIRD_IMGS= [pygame.transform.scale2x(pygame.image.load(os.path.join(\"imgs\",\"bird1.png\"))),pygame.transform.scale2x(pygame.image.load(os.path.join(\"imgs\",\"bird2.png\"))),pygame.transform.scale2x(pygame.image.load(os.path.join(\"imgs\",\"bird3.png\")))] \n",
    "#transform.scale2x makes image 2 times bigger\n",
    "#image.load loads the image\n",
    "PIPE_IMG = pygame.transform.scale2x(pygame.image.load(os.path.join(\"imgs\",\"pipe.png\")))\n",
    "BASE_IMG = pygame.transform.scale2x(pygame.image.load(os.path.join(\"imgs\",\"base.png\")))\n",
    "BG_IMG = pygame.transform.scale2x(pygame.image.load(os.path.join(\"imgs\",\"bg.png\")))\n"
   ]
  },
  {
   "cell_type": "code",
   "execution_count": null,
   "metadata": {},
   "outputs": [],
   "source": [
    "class Bird:\n",
    "    \n",
    "    IMGS = BIRD_IMGS\n",
    "    MAX_ROTATION = 25   # how much the bird tilts when goes up/down\n",
    "    ROT_VEL = 20        # how much we rotate on each frame/ everytime we move the word\n",
    "    ANIMATION_TIME = 5  # how long we show each bird animation, how fast/slow our bird flaps its wings\n",
    "    \n",
    "    def __init__(self,x,y):\n",
    "        self.x = x\n",
    "        self.y = y\n",
    "        self.tilt = 0 \n",
    "        self.tick_count = 0\n",
    "        self.vel = 0                   # its not moving iitially\n",
    "        self.height = self.y\n",
    "        self.img_count = 0             # which img were cuurently showing, keeping a track of it\n",
    "        self.img = self.IMGS[0]\n",
    "        \n",
    "    def jump(self):\n",
    "        self.vel = -10.5\n",
    "        self.tick_count = 0 # tracks when we last jump\n",
    "        self.height = self.y\n",
    "        \n",
    "    def move(self):\n",
    "        self.tick_count += 1   # frame went by, how many times we moved since last jump\n",
    "        \n",
    "        d = self.vel*self.tick_count + 1.5*self.tick_count**2      # how many pixels were moving up or down this frame\n",
    "        \n",
    "        if d >=16:\n",
    "            d = 16\n",
    "            \n",
    "        if d < 0:\n",
    "            d -= 2\n",
    "            \n",
    "        self.y = self.y + d\n",
    "        \n",
    "        if d <0 or self.y < self.height + 50:\n",
    "            if self.tilt < self.MAX_ROTATION:\n",
    "                self.tilt = self.MAX_ROTATION\n",
    "            else:\n",
    "                if self.tilt > -90:\n",
    "                    self.tilt -= self.ROT_VEL\n",
    "    \n",
    "    def draw(self,win):\n",
    "        self.img_count += 1\n",
    "        # which image to show based on image count\n",
    "        if self.img_count < self.ANIMATION_TIME:\n",
    "            self.img = self.IMGS[0]\n",
    "        elif self.img_count < self.ANIMATION_TIME*2:\n",
    "            self.img = self.IMGS[1]\n",
    "        elif self.img_count < self.ANIMATION_TIME*3:\n",
    "            self.img = self.IMGS[2]\n",
    "        elif self.img_count < self.ANIMATION_TIME*4:\n",
    "            self.img = self.IMGS[1]\n",
    "        elif self.img_count == self.ANIMATION_TIME*4 + 1:\n",
    "            self.img = self.IMGS[0]\n",
    "            self.img_count = 0\n",
    "            \n",
    "        if self.tilt <= -80:\n",
    "            self.img = self.IMGS[1]\n",
    "            self.img_count = self.ANIMATION_TIME*2  # so it doesnt look like it skipped a frame\n",
    "        \n",
    "        rotated_image = pygame.transform.rotate(self.img, self.tilt) \n",
    "        new_rect = rotated_image.get_rect(center = self.img.get_rect(topleft = (self.x,self.y)).center)\n",
    "        win.blit(rotated_image, new_rect.topleft)\n",
    "        \n",
    "    def get_mask(self):\n",
    "        return pygame.mask.from_surface(self.img)\n",
    "        "
   ]
  },
  {
   "cell_type": "code",
   "execution_count": null,
   "metadata": {},
   "outputs": [],
   "source": [
    "class Pipe:\n",
    "    GAP = 200  #spaces between our pipes\n",
    "    VEL = 5    # how fast our pipes be moving back/towards the bird\n",
    "    \n",
    "    def __init__(self,x):    # not y bcuz the height of tubes and where they show up will be completely random\n",
    "        self.x = x\n",
    "        self.height = 0\n",
    "        \n",
    "        # keeping track of where top and bottom of the pipe is drawn\n",
    "        \n",
    "        self.top = 0\n",
    "        self.bottom = 0\n",
    "        self.PIPE_TOP = pygame.transform.flip(PIPE_IMG, False, True)  \n",
    "        self.PIPE_BOTTOM = PIPE_IMG\n",
    "        \n",
    "        self.passed = False #if the bird has already passed the pipe, for collision purposes\n",
    "        self.set_height()\n",
    "    \n",
    "    def set_height(self):\n",
    "        self.heigh = random.randrange(50,450)\n",
    "        self.top = self.height - self.PIPE_TOP.get_height()\n",
    "        self.bottom - selfheight + self.GAP\n",
    "    "
   ]
  },
  {
   "cell_type": "code",
   "execution_count": null,
   "metadata": {},
   "outputs": [],
   "source": [
    "def draw_window(win,bird): # draw the bg img and then draw bird on top of it\n",
    "    win.blit(BG_IMG,(0,-200)) #blit means draw\n",
    "    bird.draw(win)\n",
    "    pygame.display.update()"
   ]
  },
  {
   "cell_type": "code",
   "execution_count": null,
   "metadata": {
    "scrolled": true
   },
   "outputs": [],
   "source": [
    "def main():\n",
    "    bird = Bird(200,200)\n",
    "    win = pygame.display.set_mode((WIN_WIDTH, WIN_HEIGHT))\n",
    "    clock = pygame.time.Clock()\n",
    "    \n",
    "    run = True\n",
    "    while run:\n",
    "        clock.tick(30)\n",
    "        for event in pygame.event.get():\n",
    "            if event.type == pygame.QUIT:   # if we click red x at top  rhs corner of the window, we quit the game\n",
    "                run = False\n",
    "                \n",
    "        bird.move()\n",
    "        draw_window(win,bird)      \n",
    "    pygame.quit()\n",
    "    quit()\n",
    "    \n",
    "main()"
   ]
  },
  {
   "cell_type": "code",
   "execution_count": null,
   "metadata": {},
   "outputs": [],
   "source": []
  },
  {
   "cell_type": "code",
   "execution_count": null,
   "metadata": {},
   "outputs": [],
   "source": []
  }
 ],
 "metadata": {
  "kernelspec": {
   "display_name": "Python 3",
   "language": "python",
   "name": "python3"
  },
  "language_info": {
   "codemirror_mode": {
    "name": "ipython",
    "version": 3
   },
   "file_extension": ".py",
   "mimetype": "text/x-python",
   "name": "python",
   "nbconvert_exporter": "python",
   "pygments_lexer": "ipython3",
   "version": "3.7.6"
  }
 },
 "nbformat": 4,
 "nbformat_minor": 4
}
