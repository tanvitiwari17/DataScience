{
 "cells": [
  {
   "cell_type": "markdown",
   "metadata": {},
   "source": [
    "### Question 1 (iii)"
   ]
  },
  {
   "cell_type": "code",
   "execution_count": 1,
   "metadata": {},
   "outputs": [
    {
     "name": "stdout",
     "output_type": "stream",
     "text": [
      "[array([1, 2, 3]), matrix([[5, 6],\n",
      "        [7, 8]]), [10, 4, 12]]\n"
     ]
    },
    {
     "data": {
      "text/plain": [
       "[array([1, 2, 3]),\n",
       " matrix([[5, 6],\n",
       "         [7, 8]])]"
      ]
     },
     "execution_count": 1,
     "metadata": {},
     "output_type": "execute_result"
    }
   ],
   "source": [
    "import numpy as np\n",
    "add=[np.array([1,2,3]),np.matrix([[5,6],[7,8]]),[10,4,12]]\n",
    "print(add)\n",
    "add.pop(2) # removing the last element\n",
    "add"
   ]
  },
  {
   "cell_type": "markdown",
   "metadata": {},
   "source": [
    "### Question 1 (iv)"
   ]
  },
  {
   "cell_type": "code",
   "execution_count": 2,
   "metadata": {},
   "outputs": [
    {
     "name": "stdout",
     "output_type": "stream",
     "text": [
      "[array([1, 2, 3]), matrix([[5, 6],\n",
      "        [7, 8]]), [10, 4, 12]]\n",
      "[array([1, 2, 3]), matrix([[5, 6],\n",
      "        [7, 8]]), [11, 4, 13, 'a']]\n"
     ]
    }
   ],
   "source": [
    "add=[np.array([1,2,3]),np.matrix([[5,6],[7,8]]),[10,4,12]]\n",
    "print(add)\n",
    "add[2]=[11,4,13,'a'] # updating the last element\n",
    "print(add)"
   ]
  },
  {
   "cell_type": "markdown",
   "metadata": {},
   "source": [
    "### Question 1 (ii)"
   ]
  },
  {
   "cell_type": "code",
   "execution_count": 3,
   "metadata": {},
   "outputs": [
    {
     "name": "stdout",
     "output_type": "stream",
     "text": [
      "1\n",
      "2\n",
      "3\n",
      "4\n",
      "5\n",
      "6\n",
      "arr1: [[1 2 3]]\n",
      "arr2: [[4 5 6]]\n",
      "sum: [[5 7 9]]\n"
     ]
    }
   ],
   "source": [
    "N=3\n",
    "arr1 = np.array([input().split() for _ in range(N)],int)\n",
    "arr2 = np.array([input().split() for _ in range(N)],int)\n",
    "print(\"arr1:\",arr1.T)\n",
    "print(\"arr2:\", arr2.T)\n",
    "print(\"sum:\",np.add(arr1,arr2).T)"
   ]
  },
  {
   "cell_type": "markdown",
   "metadata": {},
   "source": [
    "### Question 1 (i) "
   ]
  },
  {
   "cell_type": "code",
   "execution_count": 4,
   "metadata": {},
   "outputs": [
    {
     "name": "stdout",
     "output_type": "stream",
     "text": [
      "[1460170608        542          0          0          5          0]\n",
      "[1.15084332e-311+3.16202013e-322j 0.00000000e+000+0.00000000e+000j\n",
      " 0.00000000e+000+2.89817782e-057j 9.43283561e+164+1.39641469e-075j\n",
      " 3.29405817e-032+8.03254600e-042j 6.76037374e+170+1.96751856e+160j]\n",
      "[b'po\\x08' b'W\\x1e\\x02' b'' b'' b'' b'\\x00\\x05']\n"
     ]
    }
   ],
   "source": [
    "arr_num = np.empty(6, dtype=int)\n",
    "arr_complex = np.empty(6, dtype = complex)\n",
    "arr_char = np.empty(6,dtype = 'S3')\n",
    "print(arr_num)\n",
    "print(arr_complex)\n",
    "print(arr_char)"
   ]
  },
  {
   "cell_type": "markdown",
   "metadata": {},
   "source": [
    "### Question 2 (i)"
   ]
  },
  {
   "cell_type": "code",
   "execution_count": 5,
   "metadata": {},
   "outputs": [
    {
     "name": "stdout",
     "output_type": "stream",
     "text": [
      "before sorting: ['4', '6', '11', '5', '2', '108', '53', '9', '17', '21', '66']\n",
      "after sorting: [2, 4, 5, 6, 9, 11, 17, 21, 53, 66, 108]\n"
     ]
    }
   ],
   "source": [
    "file = open(\"demo.txt\", \"r\")\n",
    "for line in file:\n",
    "        print (\"before sorting:\", line.split(','))\n",
    "        print (\"after sorting:\",sorted(map(int, line.split(','))))"
   ]
  },
  {
   "cell_type": "markdown",
   "metadata": {},
   "source": [
    "### Question 2(ii)"
   ]
  },
  {
   "cell_type": "code",
   "execution_count": 6,
   "metadata": {},
   "outputs": [
    {
     "name": "stdout",
     "output_type": "stream",
     "text": [
      "number of words in file: 87\n"
     ]
    }
   ],
   "source": [
    "file=open(\"word_file.txt\",\"r\")\n",
    "word_count=0\n",
    "for line in file:\n",
    "    words=line.split(\" \")\n",
    "    word_count += len(words)\n",
    "print(\"number of words in file:\",word_count)"
   ]
  },
  {
   "cell_type": "markdown",
   "metadata": {},
   "source": [
    "### Question 2(iii) "
   ]
  },
  {
   "cell_type": "code",
   "execution_count": 7,
   "metadata": {},
   "outputs": [
    {
     "name": "stdout",
     "output_type": "stream",
     "text": [
      "number of distinct words in file: 61\n"
     ]
    }
   ],
   "source": [
    "file = open(\"word_file.txt\",\"r\")\n",
    "distinct_word_count=0\n",
    "for line in file:\n",
    "    words=set(line.lower().split())\n",
    "    distinct_word_count += len(words)\n",
    "    #print(words)\n",
    "print(\"number of distinct words in file:\",distinct_word_count)"
   ]
  },
  {
   "cell_type": "markdown",
   "metadata": {},
   "source": [
    "### Question 2(iv)"
   ]
  },
  {
   "cell_type": "code",
   "execution_count": null,
   "metadata": {},
   "outputs": [],
   "source": []
  },
  {
   "cell_type": "markdown",
   "metadata": {},
   "source": [
    "### Question 3"
   ]
  },
  {
   "cell_type": "code",
   "execution_count": 8,
   "metadata": {},
   "outputs": [
    {
     "data": {
      "text/html": [
       "<div>\n",
       "<style scoped>\n",
       "    .dataframe tbody tr th:only-of-type {\n",
       "        vertical-align: middle;\n",
       "    }\n",
       "\n",
       "    .dataframe tbody tr th {\n",
       "        vertical-align: top;\n",
       "    }\n",
       "\n",
       "    .dataframe thead th {\n",
       "        text-align: right;\n",
       "    }\n",
       "</style>\n",
       "<table border=\"1\" class=\"dataframe\">\n",
       "  <thead>\n",
       "    <tr style=\"text-align: right;\">\n",
       "      <th></th>\n",
       "      <th>Name</th>\n",
       "      <th>Height</th>\n",
       "      <th>Test Score</th>\n",
       "    </tr>\n",
       "  </thead>\n",
       "  <tbody>\n",
       "    <tr>\n",
       "      <th>0</th>\n",
       "      <td>Alex</td>\n",
       "      <td>1.71</td>\n",
       "      <td>70.0</td>\n",
       "    </tr>\n",
       "    <tr>\n",
       "      <th>1</th>\n",
       "      <td>Mike</td>\n",
       "      <td>1.65</td>\n",
       "      <td>NaN</td>\n",
       "    </tr>\n",
       "    <tr>\n",
       "      <th>2</th>\n",
       "      <td>John</td>\n",
       "      <td>1.73</td>\n",
       "      <td>84.0</td>\n",
       "    </tr>\n",
       "    <tr>\n",
       "      <th>3</th>\n",
       "      <td>Dave</td>\n",
       "      <td>NaN</td>\n",
       "      <td>62.0</td>\n",
       "    </tr>\n",
       "    <tr>\n",
       "      <th>4</th>\n",
       "      <td>Joey</td>\n",
       "      <td>1.82</td>\n",
       "      <td>73.0</td>\n",
       "    </tr>\n",
       "  </tbody>\n",
       "</table>\n",
       "</div>"
      ],
      "text/plain": [
       "   Name  Height  Test Score\n",
       "0  Alex    1.71        70.0\n",
       "1  Mike    1.65         NaN\n",
       "2  John    1.73        84.0\n",
       "3  Dave     NaN        62.0\n",
       "4  Joey    1.82        73.0"
      ]
     },
     "execution_count": 8,
     "metadata": {},
     "output_type": "execute_result"
    }
   ],
   "source": [
    "import numpy as np\n",
    "import pandas as pd\n",
    "dict1={'Name':['Alex','Mike','John','Dave','Joey'] ,'Height':[1.71,1.65,1.73,np.nan,1.82] ,'Test Score':[70.0,np.nan,84.0,62.0,73.0]}\n",
    "       \n",
    "df=pd.DataFrame(dict1)\n",
    "df"
   ]
  },
  {
   "cell_type": "code",
   "execution_count": 9,
   "metadata": {},
   "outputs": [
    {
     "data": {
      "text/html": [
       "<div>\n",
       "<style scoped>\n",
       "    .dataframe tbody tr th:only-of-type {\n",
       "        vertical-align: middle;\n",
       "    }\n",
       "\n",
       "    .dataframe tbody tr th {\n",
       "        vertical-align: top;\n",
       "    }\n",
       "\n",
       "    .dataframe thead th {\n",
       "        text-align: right;\n",
       "    }\n",
       "</style>\n",
       "<table border=\"1\" class=\"dataframe\">\n",
       "  <thead>\n",
       "    <tr style=\"text-align: right;\">\n",
       "      <th></th>\n",
       "      <th>Name</th>\n",
       "      <th>Height</th>\n",
       "      <th>Test Score</th>\n",
       "    </tr>\n",
       "  </thead>\n",
       "  <tbody>\n",
       "    <tr>\n",
       "      <th>0</th>\n",
       "      <td>False</td>\n",
       "      <td>False</td>\n",
       "      <td>False</td>\n",
       "    </tr>\n",
       "    <tr>\n",
       "      <th>1</th>\n",
       "      <td>False</td>\n",
       "      <td>False</td>\n",
       "      <td>True</td>\n",
       "    </tr>\n",
       "    <tr>\n",
       "      <th>2</th>\n",
       "      <td>False</td>\n",
       "      <td>False</td>\n",
       "      <td>False</td>\n",
       "    </tr>\n",
       "    <tr>\n",
       "      <th>3</th>\n",
       "      <td>False</td>\n",
       "      <td>True</td>\n",
       "      <td>False</td>\n",
       "    </tr>\n",
       "    <tr>\n",
       "      <th>4</th>\n",
       "      <td>False</td>\n",
       "      <td>False</td>\n",
       "      <td>False</td>\n",
       "    </tr>\n",
       "  </tbody>\n",
       "</table>\n",
       "</div>"
      ],
      "text/plain": [
       "    Name  Height  Test Score\n",
       "0  False   False       False\n",
       "1  False   False        True\n",
       "2  False   False       False\n",
       "3  False    True       False\n",
       "4  False   False       False"
      ]
     },
     "execution_count": 9,
     "metadata": {},
     "output_type": "execute_result"
    }
   ],
   "source": [
    "df.isnull()"
   ]
  },
  {
   "cell_type": "code",
   "execution_count": 10,
   "metadata": {},
   "outputs": [
    {
     "data": {
      "text/plain": [
       "Name          0\n",
       "Height        1\n",
       "Test Score    1\n",
       "dtype: int64"
      ]
     },
     "execution_count": 10,
     "metadata": {},
     "output_type": "execute_result"
    }
   ],
   "source": [
    "df.isnull().sum()"
   ]
  },
  {
   "cell_type": "code",
   "execution_count": 11,
   "metadata": {},
   "outputs": [
    {
     "data": {
      "text/html": [
       "<div>\n",
       "<style scoped>\n",
       "    .dataframe tbody tr th:only-of-type {\n",
       "        vertical-align: middle;\n",
       "    }\n",
       "\n",
       "    .dataframe tbody tr th {\n",
       "        vertical-align: top;\n",
       "    }\n",
       "\n",
       "    .dataframe thead th {\n",
       "        text-align: right;\n",
       "    }\n",
       "</style>\n",
       "<table border=\"1\" class=\"dataframe\">\n",
       "  <thead>\n",
       "    <tr style=\"text-align: right;\">\n",
       "      <th></th>\n",
       "      <th>Name</th>\n",
       "      <th>Height</th>\n",
       "      <th>Test Score</th>\n",
       "    </tr>\n",
       "  </thead>\n",
       "  <tbody>\n",
       "    <tr>\n",
       "      <th>0</th>\n",
       "      <td>Alex</td>\n",
       "      <td>1.71</td>\n",
       "      <td>70</td>\n",
       "    </tr>\n",
       "    <tr>\n",
       "      <th>1</th>\n",
       "      <td>Mike</td>\n",
       "      <td>1.65</td>\n",
       "      <td>*</td>\n",
       "    </tr>\n",
       "    <tr>\n",
       "      <th>2</th>\n",
       "      <td>John</td>\n",
       "      <td>1.73</td>\n",
       "      <td>84</td>\n",
       "    </tr>\n",
       "    <tr>\n",
       "      <th>3</th>\n",
       "      <td>Dave</td>\n",
       "      <td>*</td>\n",
       "      <td>62</td>\n",
       "    </tr>\n",
       "    <tr>\n",
       "      <th>4</th>\n",
       "      <td>Joey</td>\n",
       "      <td>1.82</td>\n",
       "      <td>73</td>\n",
       "    </tr>\n",
       "  </tbody>\n",
       "</table>\n",
       "</div>"
      ],
      "text/plain": [
       "   Name Height Test Score\n",
       "0  Alex   1.71         70\n",
       "1  Mike   1.65          *\n",
       "2  John   1.73         84\n",
       "3  Dave      *         62\n",
       "4  Joey   1.82         73"
      ]
     },
     "execution_count": 11,
     "metadata": {},
     "output_type": "execute_result"
    }
   ],
   "source": [
    "#df=df.replace(np.nan,'*')\n",
    "df_1 =df.fillna('*')\n",
    "df_1"
   ]
  },
  {
   "cell_type": "code",
   "execution_count": 12,
   "metadata": {},
   "outputs": [
    {
     "data": {
      "text/html": [
       "<div>\n",
       "<style scoped>\n",
       "    .dataframe tbody tr th:only-of-type {\n",
       "        vertical-align: middle;\n",
       "    }\n",
       "\n",
       "    .dataframe tbody tr th {\n",
       "        vertical-align: top;\n",
       "    }\n",
       "\n",
       "    .dataframe thead th {\n",
       "        text-align: right;\n",
       "    }\n",
       "</style>\n",
       "<table border=\"1\" class=\"dataframe\">\n",
       "  <thead>\n",
       "    <tr style=\"text-align: right;\">\n",
       "      <th></th>\n",
       "      <th>Name</th>\n",
       "      <th>Height</th>\n",
       "      <th>Test Score</th>\n",
       "    </tr>\n",
       "  </thead>\n",
       "  <tbody>\n",
       "    <tr>\n",
       "      <th>0</th>\n",
       "      <td>Alex</td>\n",
       "      <td>1.71</td>\n",
       "      <td>70</td>\n",
       "    </tr>\n",
       "    <tr>\n",
       "      <th>1</th>\n",
       "      <td>Mike</td>\n",
       "      <td>1.65</td>\n",
       "      <td>***</td>\n",
       "    </tr>\n",
       "    <tr>\n",
       "      <th>2</th>\n",
       "      <td>John</td>\n",
       "      <td>1.73</td>\n",
       "      <td>84</td>\n",
       "    </tr>\n",
       "    <tr>\n",
       "      <th>3</th>\n",
       "      <td>Dave</td>\n",
       "      <td>*</td>\n",
       "      <td>62</td>\n",
       "    </tr>\n",
       "    <tr>\n",
       "      <th>4</th>\n",
       "      <td>Joey</td>\n",
       "      <td>1.82</td>\n",
       "      <td>73</td>\n",
       "    </tr>\n",
       "  </tbody>\n",
       "</table>\n",
       "</div>"
      ],
      "text/plain": [
       "   Name Height Test Score\n",
       "0  Alex   1.71         70\n",
       "1  Mike   1.65        ***\n",
       "2  John   1.73         84\n",
       "3  Dave      *         62\n",
       "4  Joey   1.82         73"
      ]
     },
     "execution_count": 12,
     "metadata": {},
     "output_type": "execute_result"
    }
   ],
   "source": [
    "df_1['Test Score']=df['Test Score'].fillna('***')\n",
    "df_1"
   ]
  },
  {
   "cell_type": "code",
   "execution_count": 13,
   "metadata": {},
   "outputs": [
    {
     "data": {
      "text/html": [
       "<div>\n",
       "<style scoped>\n",
       "    .dataframe tbody tr th:only-of-type {\n",
       "        vertical-align: middle;\n",
       "    }\n",
       "\n",
       "    .dataframe tbody tr th {\n",
       "        vertical-align: top;\n",
       "    }\n",
       "\n",
       "    .dataframe thead th {\n",
       "        text-align: right;\n",
       "    }\n",
       "</style>\n",
       "<table border=\"1\" class=\"dataframe\">\n",
       "  <thead>\n",
       "    <tr style=\"text-align: right;\">\n",
       "      <th></th>\n",
       "      <th>Name</th>\n",
       "      <th>Height</th>\n",
       "      <th>Test Score</th>\n",
       "    </tr>\n",
       "  </thead>\n",
       "  <tbody>\n",
       "    <tr>\n",
       "      <th>0</th>\n",
       "      <td>Alex</td>\n",
       "      <td>1.71</td>\n",
       "      <td>70.00</td>\n",
       "    </tr>\n",
       "    <tr>\n",
       "      <th>1</th>\n",
       "      <td>Mike</td>\n",
       "      <td>1.65</td>\n",
       "      <td>72.25</td>\n",
       "    </tr>\n",
       "    <tr>\n",
       "      <th>2</th>\n",
       "      <td>John</td>\n",
       "      <td>1.73</td>\n",
       "      <td>84.00</td>\n",
       "    </tr>\n",
       "    <tr>\n",
       "      <th>3</th>\n",
       "      <td>Dave</td>\n",
       "      <td>NaN</td>\n",
       "      <td>62.00</td>\n",
       "    </tr>\n",
       "    <tr>\n",
       "      <th>4</th>\n",
       "      <td>Joey</td>\n",
       "      <td>1.82</td>\n",
       "      <td>73.00</td>\n",
       "    </tr>\n",
       "  </tbody>\n",
       "</table>\n",
       "</div>"
      ],
      "text/plain": [
       "   Name  Height  Test Score\n",
       "0  Alex    1.71       70.00\n",
       "1  Mike    1.65       72.25\n",
       "2  John    1.73       84.00\n",
       "3  Dave     NaN       62.00\n",
       "4  Joey    1.82       73.00"
      ]
     },
     "execution_count": 13,
     "metadata": {},
     "output_type": "execute_result"
    }
   ],
   "source": [
    "df_2=df.copy()\n",
    "df_2['Test Score'] = df_2['Test Score'].fillna(df_2['Test Score'].mean())\n",
    "df_2"
   ]
  },
  {
   "cell_type": "code",
   "execution_count": 14,
   "metadata": {},
   "outputs": [
    {
     "data": {
      "text/html": [
       "<div>\n",
       "<style scoped>\n",
       "    .dataframe tbody tr th:only-of-type {\n",
       "        vertical-align: middle;\n",
       "    }\n",
       "\n",
       "    .dataframe tbody tr th {\n",
       "        vertical-align: top;\n",
       "    }\n",
       "\n",
       "    .dataframe thead th {\n",
       "        text-align: right;\n",
       "    }\n",
       "</style>\n",
       "<table border=\"1\" class=\"dataframe\">\n",
       "  <thead>\n",
       "    <tr style=\"text-align: right;\">\n",
       "      <th></th>\n",
       "      <th>Name</th>\n",
       "      <th>Height</th>\n",
       "      <th>Test Score</th>\n",
       "    </tr>\n",
       "  </thead>\n",
       "  <tbody>\n",
       "    <tr>\n",
       "      <th>0</th>\n",
       "      <td>Alex</td>\n",
       "      <td>1.71</td>\n",
       "      <td>70.0</td>\n",
       "    </tr>\n",
       "    <tr>\n",
       "      <th>1</th>\n",
       "      <td>Mike</td>\n",
       "      <td>1.65</td>\n",
       "      <td>77.0</td>\n",
       "    </tr>\n",
       "    <tr>\n",
       "      <th>2</th>\n",
       "      <td>John</td>\n",
       "      <td>1.73</td>\n",
       "      <td>84.0</td>\n",
       "    </tr>\n",
       "    <tr>\n",
       "      <th>3</th>\n",
       "      <td>Dave</td>\n",
       "      <td>NaN</td>\n",
       "      <td>62.0</td>\n",
       "    </tr>\n",
       "    <tr>\n",
       "      <th>4</th>\n",
       "      <td>Joey</td>\n",
       "      <td>1.82</td>\n",
       "      <td>73.0</td>\n",
       "    </tr>\n",
       "  </tbody>\n",
       "</table>\n",
       "</div>"
      ],
      "text/plain": [
       "   Name  Height  Test Score\n",
       "0  Alex    1.71        70.0\n",
       "1  Mike    1.65        77.0\n",
       "2  John    1.73        84.0\n",
       "3  Dave     NaN        62.0\n",
       "4  Joey    1.82        73.0"
      ]
     },
     "execution_count": 14,
     "metadata": {},
     "output_type": "execute_result"
    }
   ],
   "source": [
    "df_3=df.copy()\n",
    "df_3['Test Score'] = df_3['Test Score'].fillna(df_3['Test Score'].interpolate())\n",
    "df_3"
   ]
  },
  {
   "cell_type": "code",
   "execution_count": 15,
   "metadata": {},
   "outputs": [
    {
     "data": {
      "text/html": [
       "<div>\n",
       "<style scoped>\n",
       "    .dataframe tbody tr th:only-of-type {\n",
       "        vertical-align: middle;\n",
       "    }\n",
       "\n",
       "    .dataframe tbody tr th {\n",
       "        vertical-align: top;\n",
       "    }\n",
       "\n",
       "    .dataframe thead th {\n",
       "        text-align: right;\n",
       "    }\n",
       "</style>\n",
       "<table border=\"1\" class=\"dataframe\">\n",
       "  <thead>\n",
       "    <tr style=\"text-align: right;\">\n",
       "      <th></th>\n",
       "      <th>Name</th>\n",
       "      <th>Height</th>\n",
       "      <th>Test Score</th>\n",
       "    </tr>\n",
       "  </thead>\n",
       "  <tbody>\n",
       "    <tr>\n",
       "      <th>0</th>\n",
       "      <td>Alex</td>\n",
       "      <td>1.71</td>\n",
       "      <td>70.0</td>\n",
       "    </tr>\n",
       "    <tr>\n",
       "      <th>2</th>\n",
       "      <td>John</td>\n",
       "      <td>1.73</td>\n",
       "      <td>84.0</td>\n",
       "    </tr>\n",
       "    <tr>\n",
       "      <th>4</th>\n",
       "      <td>Joey</td>\n",
       "      <td>1.82</td>\n",
       "      <td>73.0</td>\n",
       "    </tr>\n",
       "  </tbody>\n",
       "</table>\n",
       "</div>"
      ],
      "text/plain": [
       "   Name  Height  Test Score\n",
       "0  Alex    1.71        70.0\n",
       "2  John    1.73        84.0\n",
       "4  Joey    1.82        73.0"
      ]
     },
     "execution_count": 15,
     "metadata": {},
     "output_type": "execute_result"
    }
   ],
   "source": [
    "df_4=df.copy()\n",
    "df_4.dropna()"
   ]
  },
  {
   "cell_type": "markdown",
   "metadata": {},
   "source": [
    "### Question 4"
   ]
  },
  {
   "cell_type": "code",
   "execution_count": 16,
   "metadata": {},
   "outputs": [
    {
     "ename": "SyntaxError",
     "evalue": "invalid syntax (<ipython-input-16-60dd446d57c8>, line 14)",
     "output_type": "error",
     "traceback": [
      "\u001b[1;36m  File \u001b[1;32m\"<ipython-input-16-60dd446d57c8>\"\u001b[1;36m, line \u001b[1;32m14\u001b[0m\n\u001b[1;33m    sim = /20\u001b[0m\n\u001b[1;37m          ^\u001b[0m\n\u001b[1;31mSyntaxError\u001b[0m\u001b[1;31m:\u001b[0m invalid syntax\n"
     ]
    }
   ],
   "source": [
    "#a\n",
    "#from random import seed\n",
    "marks=[]\n",
    "for i in range(20):\n",
    "    marks.append(np.random.randint(0,2))\n",
    "\n",
    "print(marks)\n",
    "count=0\n",
    "for i in marks:\n",
    "    if i==1:\n",
    "        count+=1\n",
    "print(count)\n",
    "\n",
    "sim = /20\n",
    "print('probabilty of marks <=7 :', sim*100)"
   ]
  },
  {
   "cell_type": "code",
   "execution_count": 17,
   "metadata": {},
   "outputs": [
    {
     "data": {
      "text/plain": [
       "0.19053882658339394"
      ]
     },
     "execution_count": 17,
     "metadata": {},
     "output_type": "execute_result"
    }
   ],
   "source": [
    "#b\n",
    "import scipy.stats\n",
    "ans= 1-scipy.stats.norm(67,13.7).cdf(79)\n",
    "ans"
   ]
  },
  {
   "cell_type": "markdown",
   "metadata": {},
   "source": [
    "###  Question 5"
   ]
  },
  {
   "cell_type": "code",
   "execution_count": 18,
   "metadata": {},
   "outputs": [
    {
     "data": {
      "text/plain": [
       "70"
      ]
     },
     "execution_count": 18,
     "metadata": {},
     "output_type": "execute_result"
    }
   ],
   "source": [
    "from statistics import median\n",
    "\n",
    "def LinReg(year,sales,new):\n",
    "    mid = median(year)\n",
    "    cs=year[1]-year[0]\n",
    "    x=[]\n",
    "    xy=[]\n",
    "    x2=[]\n",
    "    for i in year:\n",
    "        x.append((i-mid)/cs)\n",
    "    for i in range(len(sales)):\n",
    "        xy.append(sales[i]*x[i])\n",
    "        x2.append(x[i]**2)\n",
    "    new_x=(new-mid)\n",
    "    a= sum(sales)/len(year)\n",
    "    b= sum(xy)/sum(x2)\n",
    "    res = a+b*new_x\n",
    "    return round(res)\n",
    "\n",
    "year=[2005,2006,2007,2008,2009]\n",
    "sales= [12,19,29,37,45]\n",
    "\n",
    "LinReg(year,sales,2012)"
   ]
  },
  {
   "cell_type": "code",
   "execution_count": 19,
   "metadata": {},
   "outputs": [
    {
     "data": {
      "text/plain": [
       "0.9977375565610798"
      ]
     },
     "execution_count": 19,
     "metadata": {},
     "output_type": "execute_result"
    }
   ],
   "source": [
    "import numpy as np\n",
    "from sklearn.linear_model import LinearRegression\n",
    "\n",
    "X=np.array([2005,2006,2007,2008,2009])\n",
    "y=np.array([12,19,29,37,45])\n",
    "x_mat= X.reshape(-1,1)\n",
    "reg = LinearRegression()\n",
    "reg.fit(x_mat,y)\n",
    "reg.score(x_mat,y)"
   ]
  },
  {
   "cell_type": "code",
   "execution_count": 20,
   "metadata": {},
   "outputs": [
    {
     "data": {
      "text/plain": [
       "array([8.4])"
      ]
     },
     "execution_count": 20,
     "metadata": {},
     "output_type": "execute_result"
    }
   ],
   "source": [
    "reg.coef_"
   ]
  },
  {
   "cell_type": "code",
   "execution_count": 21,
   "metadata": {},
   "outputs": [
    {
     "data": {
      "text/plain": [
       "-16830.399999999998"
      ]
     },
     "execution_count": 21,
     "metadata": {},
     "output_type": "execute_result"
    }
   ],
   "source": [
    "reg.intercept_"
   ]
  },
  {
   "cell_type": "code",
   "execution_count": 22,
   "metadata": {},
   "outputs": [
    {
     "data": {
      "text/plain": [
       "array([70.4])"
      ]
     },
     "execution_count": 22,
     "metadata": {},
     "output_type": "execute_result"
    }
   ],
   "source": [
    "reg.predict([[2012]])"
   ]
  },
  {
   "cell_type": "code",
   "execution_count": 23,
   "metadata": {},
   "outputs": [
    {
     "data": {
      "image/png": "[encoded data removed]",
      "text/plain": [
       "<Figure size 432x288 with 1 Axes>"
      ]
     },
     "metadata": {
      "needs_background": "light"
     },
     "output_type": "display_data"
    }
   ],
   "source": [
    "import matplotlib.pyplot as plt\n",
    "year=[2005,2006,2007,2008,2009]\n",
    "sales= [12,19,29,37,45]\n",
    "plt.plot(year,sales)\n",
    "plt.show()"
   ]
  },
  {
   "cell_type": "code",
   "execution_count": 24,
   "metadata": {},
   "outputs": [
    {
     "name": "stdout",
     "output_type": "stream",
     "text": [
      "214786.83264881538\n"
     ]
    }
   ],
   "source": [
    "from statistics import median\n",
    "\n",
    "def LinRegression(grades,salary,new):\n",
    "    mean = sum(grades)/len(grades)\n",
    "    x=[]\n",
    "    xy=[]\n",
    "    x2=[]\n",
    "    for i in grades:\n",
    "        x.append(abs(i-mean))\n",
    "    for i in range(len(grades)):\n",
    "        xy.append(x[i]*salary[i])\n",
    "        x2.append(x[i]**2)\n",
    "    new_grade=abs(new-mean)\n",
    "    a= sum(salary)/sum(grades)\n",
    "    b= sum(xy)/sum(x2)\n",
    "    res=a+b*new_grade\n",
    "    return res\n",
    "        \n",
    "grades=[62,76.33,72.00,60,61,55,70,68,82,59]\n",
    "salary=[270000,200000,240000,250000,180000,300000,260000,235000,425000,24000]\n",
    "print(LinRegression(grades,salary,59))"
   ]
  },
  {
   "cell_type": "code",
   "execution_count": 25,
   "metadata": {},
   "outputs": [
    {
     "data": {
      "text/plain": [
       "0.14476882284307968"
      ]
     },
     "execution_count": 25,
     "metadata": {},
     "output_type": "execute_result"
    }
   ],
   "source": [
    "import numpy as np\n",
    "from sklearn.linear_model import LinearRegression\n",
    "\n",
    "X=np.array([62,76.33,72.00,60,61,55,70,68,82,59])\n",
    "y=np.array([270000,200000,240000,250000,180000,300000,260000,235000,425000,240000])\n",
    "x_mat= X.reshape(-1,1)\n",
    "reg = LinearRegression()\n",
    "reg.fit(x_mat,y)\n",
    "reg.score(x_mat,y)"
   ]
  },
  {
   "cell_type": "code",
   "execution_count": 26,
   "metadata": {},
   "outputs": [
    {
     "data": {
      "text/plain": [
       "array([240582.38381424])"
      ]
     },
     "execution_count": 26,
     "metadata": {},
     "output_type": "execute_result"
    }
   ],
   "source": [
    "reg.predict([[60]])"
   ]
  },
  {
   "cell_type": "code",
   "execution_count": 27,
   "metadata": {},
   "outputs": [
    {
     "data": {
      "image/png": "[encoded data removed]",
      "text/plain": [
       "<Figure size 432x288 with 1 Axes>"
      ]
     },
     "metadata": {
      "needs_background": "light"
     },
     "output_type": "display_data"
    }
   ],
   "source": [
    "import matplotlib.pyplot as plt\n",
    "\n",
    "x=[62,76.33,72.00,60,61,55,70,68,82,59]\n",
    "y=[270000,200000,240000,250000,180000,300000,260000,235000,425000,240000]\n",
    "\n",
    "plt.plot(x,y)\n",
    "plt.show()"
   ]
  },
  {
   "cell_type": "code",
   "execution_count": 28,
   "metadata": {},
   "outputs": [
    {
     "ename": "NameError",
     "evalue": "name 'poisson' is not defined",
     "output_type": "error",
     "traceback": [
      "\u001b[1;31m---------------------------------------------------------------------------\u001b[0m",
      "\u001b[1;31mNameError\u001b[0m                                 Traceback (most recent call last)",
      "\u001b[1;32m<ipython-input-28-67bb1fa2fcd5>\u001b[0m in \u001b[0;36m<module>\u001b[1;34m\u001b[0m\n\u001b[0;32m      8\u001b[0m \u001b[0mres_1\u001b[0m\u001b[1;33m=\u001b[0m\u001b[1;36m0\u001b[0m\u001b[1;33m\u001b[0m\u001b[1;33m\u001b[0m\u001b[0m\n\u001b[0;32m      9\u001b[0m \u001b[1;32mfor\u001b[0m \u001b[0mi\u001b[0m \u001b[1;32min\u001b[0m \u001b[0mrange\u001b[0m\u001b[1;33m(\u001b[0m\u001b[1;36m6\u001b[0m\u001b[1;33m)\u001b[0m\u001b[1;33m:\u001b[0m\u001b[1;33m\u001b[0m\u001b[1;33m\u001b[0m\u001b[0m\n\u001b[1;32m---> 10\u001b[1;33m     \u001b[0mres_1\u001b[0m\u001b[1;33m+=\u001b[0m\u001b[0mpoisson\u001b[0m\u001b[1;33m(\u001b[0m\u001b[1;36m10\u001b[0m\u001b[1;33m,\u001b[0m\u001b[0mi\u001b[0m\u001b[1;33m)\u001b[0m\u001b[1;33m\u001b[0m\u001b[1;33m\u001b[0m\u001b[0m\n\u001b[0m\u001b[0;32m     11\u001b[0m \u001b[0mprint\u001b[0m\u001b[1;33m(\u001b[0m\u001b[1;34m'Probability that the number of calls will be maximum 5:'\u001b[0m\u001b[1;33m,\u001b[0m\u001b[0mres_1\u001b[0m\u001b[1;33m)\u001b[0m\u001b[1;33m\u001b[0m\u001b[1;33m\u001b[0m\u001b[0m\n\u001b[0;32m     12\u001b[0m \u001b[0mres_2\u001b[0m\u001b[1;33m=\u001b[0m\u001b[1;36m0\u001b[0m\u001b[1;33m\u001b[0m\u001b[1;33m\u001b[0m\u001b[0m\n",
      "\u001b[1;31mNameError\u001b[0m: name 'poisson' is not defined"
     ]
    }
   ],
   "source": [
    "import math\n",
    "def fact(x):\n",
    "    fac=1\n",
    "    for i in range(1,x+1):\n",
    "        fac=fac*i\n",
    "def pois_prob(m,x):\n",
    "    return ((m**x)*math.e**(-m))/(fact(x))\n",
    "res_1=0\n",
    "for i in range(6):\n",
    "    res_1+=poisson(10,i)\n",
    "print('Probability that the number of calls will be maximum 5:',res_1)\n",
    "res_2=0\n",
    "for i in range(31):\n",
    "    res_2+=poisson(30,i)\n",
    "print('Probability that the number of calls over a 3 hour period will exceed 30:',1-res_2)\n"
   ]
  },
  {
   "cell_type": "code",
   "execution_count": 29,
   "metadata": {},
   "outputs": [
    {
     "data": {
      "image/png": "[encoded data removed]",
      "text/plain": [
       "<Figure size 432x288 with 1 Axes>"
      ]
     },
     "metadata": {
      "needs_background": "light"
     },
     "output_type": "display_data"
    }
   ],
   "source": [
    "import matplotlib.pyplot as plt\n",
    "plt.plot([1,2,3,4],[1,4,9,16],'ro')\n",
    "plt.show()"
   ]
  },
  {
   "cell_type": "code",
   "execution_count": 30,
   "metadata": {},
   "outputs": [
    {
     "data": {
      "image/png": "[encoded data removed]",
      "text/plain": [
       "<Figure size 432x288 with 1 Axes>"
      ]
     },
     "metadata": {
      "needs_background": "light"
     },
     "output_type": "display_data"
    }
   ],
   "source": [
    "import matplotlib.pyplot as plt\n",
    "plt.axis([0, 5, 0, 20])\n",
    "plt.title('My first plot')\n",
    "plt.plot([1,2,3,4], [1,4,9,16], 'ro')\n",
    "plt.show()"
   ]
  },
  {
   "cell_type": "code",
   "execution_count": 31,
   "metadata": {},
   "outputs": [
    {
     "data": {
      "text/plain": [
       "[<matplotlib.lines.Line2D at 0x21e5d5d10c8>,\n",
       " <matplotlib.lines.Line2D at 0x21e5d5edb88>,\n",
       " <matplotlib.lines.Line2D at 0x21e5d5d8a08>]"
      ]
     },
     "execution_count": 31,
     "metadata": {},
     "output_type": "execute_result"
    },
    {
     "data": {
      "image/png": "[encoded data removed]",
      "text/plain": [
       "<Figure size 432x288 with 1 Axes>"
      ]
     },
     "metadata": {
      "needs_background": "light"
     },
     "output_type": "display_data"
    }
   ],
   "source": [
    "import math\n",
    "import numpy as np\n",
    "t = np.arange(0, 2.5, 0.1)\n",
    "y1 = np.sin(math.pi*t)\n",
    "y2 = np.sin(math.pi*t+math.pi/2)\n",
    "y3 = np.sin(math.pi*t-math.pi/2)\n",
    "plt.plot(t, y1, 'b--', t, y2, 'g', t, y3,'r-.',linewidth=4.0)"
   ]
  },
  {
   "cell_type": "code",
   "execution_count": 32,
   "metadata": {},
   "outputs": [
    {
     "data": {
      "image/png": "[encoded data removed]",
      "text/plain": [
       "<Figure size 432x288 with 2 Axes>"
      ]
     },
     "metadata": {
      "needs_background": "light"
     },
     "output_type": "display_data"
    }
   ],
   "source": [
    "import math\n",
    "import numpy as np\n",
    "import matplotlib.pyplot as plt\n",
    "t = np.arange(0, 5, 0.1)\n",
    "y1 = np.sin(2*np.pi*t)\n",
    "y2 = np.sin(2*np.pi*t)\n",
    "plt.subplot(211)\n",
    "plt.plot(t, y1,'b-.')\n",
    "plt.subplot(212)\n",
    "plt.plot(t, y2, 'r--')\n",
    "plt.show()"
   ]
  },
  {
   "cell_type": "markdown",
   "metadata": {},
   "source": [
    "##### Adding a grid"
   ]
  },
  {
   "cell_type": "code",
   "execution_count": 33,
   "metadata": {},
   "outputs": [
    {
     "data": {
      "image/png": "[encoded data removed]",
      "text/plain": [
       "<Figure size 432x288 with 1 Axes>"
      ]
     },
     "metadata": {
      "needs_background": "light"
     },
     "output_type": "display_data"
    }
   ],
   "source": [
    "import numpy as np\n",
    "import matplotlib.pyplot as plt\n",
    "plt.axis([0,5,0,20])\n",
    "plt.title('My first plot',fontsize =20)\n",
    "plt.xlabel('Counting',color='gray')\n",
    "plt.ylabel('Square values',color='gray')\n",
    "plt.text(1,1.5,'First')\n",
    "plt.text(2,4.5,'Second')\n",
    "plt.text(3,9.5,'Third')\n",
    "plt.text(4,16.5,'Fourth')\n",
    "plt.text(1.1,12,r'$y = x^2$',fontsize=20,bbox={'facecolor':'yellow', 'alpha':0.2})\n",
    "plt.grid(True)\n",
    "plt.plot([1,2,3,4],[1,4,9,16],'go')\n",
    "plt.legend(['First Series'],loc=2)\n",
    "plt.show()"
   ]
  },
  {
   "cell_type": "code",
   "execution_count": 34,
   "metadata": {},
   "outputs": [
    {
     "data": {
      "image/png": "[encoded data removed]",
      "text/plain": [
       "<Figure size 432x288 with 1 Axes>"
      ]
     },
     "metadata": {
      "needs_background": "light"
     },
     "output_type": "display_data"
    }
   ],
   "source": [
    "x = np.arange(-2*np.pi,2*np.pi,0.01)\n",
    "y1 = np.sin(3*x)/x\n",
    "y2 = np.sin(2*x)/x\n",
    "y3 = np.sin(x)/x\n",
    "\n",
    "plt.plot(x,y1,'k--',linewidth =3)\n",
    "plt.plot(x,y2,'m-.')\n",
    "plt.plot(x,y3,color ='#87a3cc',linestyle='--')\n",
    "\n",
    "plt.show()"
   ]
  },
  {
   "cell_type": "code",
   "execution_count": 35,
   "metadata": {},
   "outputs": [
    {
     "data": {
      "image/png": "[encoded data removed]",
      "text/plain": [
       "<Figure size 432x288 with 1 Axes>"
      ]
     },
     "metadata": {
      "needs_background": "light"
     },
     "output_type": "display_data"
    }
   ],
   "source": [
    "import matplotlib.pyplot as plt\n",
    "import numpy as np\n",
    "x = np.arange(-2*np.pi,2*np.pi,0.01)\n",
    "y = np.sin(3*x)/x\n",
    "y2 = np.sin(2*x)/x\n",
    "y3 = np.sin(x)/x\n",
    "plt.plot(x,y,color='b')\n",
    "plt.plot(x,y2,color='r')\n",
    "plt.plot(x,y3,color='g')\n",
    "plt.xticks([-2*np.pi, -np.pi, 0, np.pi, 2*np.pi],\n",
    "[r'$-2\\pi$',r'$-\\pi$',r'$0$',r'$+\\pi$',r'$+2\\pi$'])\n",
    "plt.yticks([-1,0,1,2,3], [r'$-1$',r'$0$',r'$+1$',r'$+2$',r'$+3$'])\n",
    "plt.show()"
   ]
  },
  {
   "cell_type": "code",
   "execution_count": 71,
   "metadata": {},
   "outputs": [
    {
     "name": "stdout",
     "output_type": "stream",
     "text": [
      "0.0\n"
     ]
    }
   ],
   "source": [
    "import time\n",
    "import numpy as np\n",
    "\n",
    "\n",
    "matrix1 = ([1, 2, 3],\n",
    "           [3, 4, 5],\n",
    "           [7, 6, 4])\n",
    "matrix2 = ([5, 2, 6],\n",
    "           [5, 6, 7],\n",
    "           [7, 6, 4])\n",
    "\n",
    "time1=time.time() \n",
    "ans1=np.dot(matrix1,matrix2)\n",
    "time2=time.time()\n",
    "print(round(time2-time1,4))"
   ]
  },
  {
   "cell_type": "code",
   "execution_count": 67,
   "metadata": {},
   "outputs": [
    {
     "name": "stdout",
     "output_type": "stream",
     "text": [
      "0.0017\n"
     ]
    }
   ],
   "source": [
    "import time\n",
    "import numpy as np\n",
    "\n",
    "matrix1 = ([1, 2, 3],\n",
    "           [3, 4, 5],\n",
    "           [7, 6, 4])\n",
    "matrix2 = ([5, 2, 6],\n",
    "           [5, 6, 7],\n",
    "           [7, 6, 4])\n",
    "time1=time.time()\n",
    "\n",
    "res = [[0 for x in range(3)] for y in range(3)]  \n",
    " \n",
    "for i in range(len(matrix1)): \n",
    "    for j in range(len(matrix2[0])): \n",
    "        for k in range(len(matrix2)): \n",
    "  \n",
    "            # resulted matrix \n",
    "            res[i][j] += matrix1[i][k] * matrix2[k][j] \n",
    "time2=time.time()\n",
    "\n",
    "print(round(time2-time1,4))"
   ]
  },
  {
   "cell_type": "code",
   "execution_count": null,
   "metadata": {},
   "outputs": [],
   "source": []
  }
 ],
 "metadata": {
  "kernelspec": {
   "display_name": "Python 3",
   "language": "python",
   "name": "python3"
  },
  "language_info": {
   "codemirror_mode": {
    "name": "ipython",
    "version": 3
   },
   "file_extension": ".py",
   "mimetype": "text/x-python",
   "name": "python",
   "nbconvert_exporter": "python",
   "pygments_lexer": "ipython3",
   "version": "3.7.6"
  }
 },
 "nbformat": 4,
 "nbformat_minor": 4
}
