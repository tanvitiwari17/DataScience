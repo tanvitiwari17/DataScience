{
 "cells": [
  {
   "cell_type": "markdown",
   "metadata": {},
   "source": [
    "### Question 1 (iii)"
   ]
  },
  {
   "cell_type": "code",
   "execution_count": 1,
   "metadata": {},
   "outputs": [
    {
     "name": "stdout",
     "output_type": "stream",
     "text": [
      "[array([1, 2, 3]), matrix([[5, 6],\n",
      "        [7, 8]]), [10, 4, 12]]\n"
     ]
    },
    {
     "data": {
      "text/plain": [
       "[array([1, 2, 3]),\n",
       " matrix([[5, 6],\n",
       "         [7, 8]])]"
      ]
     },
     "execution_count": 1,
     "metadata": {},
     "output_type": "execute_result"
    }
   ],
   "source": [
    "import numpy as np\n",
    "add=[np.array([1,2,3]),np.matrix([[5,6],[7,8]]),[10,4,12]]\n",
    "print(add)\n",
    "add.pop(2) # removing the last element\n",
    "add"
   ]
  },
  {
   "cell_type": "markdown",
   "metadata": {},
   "source": [
    "### Question 1 (iv)"
   ]
  },
  {
   "cell_type": "code",
   "execution_count": 2,
   "metadata": {},
   "outputs": [
    {
     "name": "stdout",
     "output_type": "stream",
     "text": [
      "[array([1, 2, 3]), matrix([[5, 6],\n",
      "        [7, 8]]), [10, 4, 12]]\n",
      "[array([1, 2, 3]), matrix([[5, 6],\n",
      "        [7, 8]]), [11, 4, 13, 'a']]\n"
     ]
    }
   ],
   "source": [
    "add=[np.array([1,2,3]),np.matrix([[5,6],[7,8]]),[10,4,12]]\n",
    "print(add)\n",
    "add[2]=[11,4,13,'a'] # updating the last element\n",
    "print(add)"
   ]
  },
  {
   "cell_type": "markdown",
   "metadata": {},
   "source": [
    "### Question 1 (ii)"
   ]
  },
  {
   "cell_type": "code",
   "execution_count": 6,
   "metadata": {},
   "outputs": [
    {
     "name": "stdout",
     "output_type": "stream",
     "text": [
      "1\n",
      "3\n",
      "9\n",
      "2\n",
      "2\n",
      "6\n",
      "arr1: [[1 3 9]]\n",
      "arr2: [[2 2 6]]\n",
      "sum: [[ 3  5 15]]\n"
     ]
    }
   ],
   "source": [
    "N=3\n",
    "arr1 = np.array([input().split() for _ in range(N)],int)\n",
    "arr2 = np.array([input().split() for _ in range(N)],int)\n",
    "print(\"arr1:\",arr1.T)\n",
    "print(\"arr2:\", arr2.T)\n",
    "print(\"sum:\",np.add(arr1,arr2).T)"
   ]
  },
  {
   "cell_type": "markdown",
   "metadata": {},
   "source": [
    "### Question 1 (i) "
   ]
  },
  {
   "cell_type": "code",
   "execution_count": 19,
   "metadata": {},
   "outputs": [
    {
     "name": "stdout",
     "output_type": "stream",
     "text": [
      "[-966463472        605          0          0          1          0]\n",
      "[1.28545352e-311+2.47032823e-322j 0.00000000e+000+0.00000000e+000j\n",
      " 0.00000000e+000+1.31370903e-076j 7.17354251e-091+6.53029824e-042j\n",
      " 1.26948713e-076+2.59983458e-056j 3.99910963e+252+2.02086079e-076j]\n",
      "[b'\\x10\\xf0d' b'\\xc6]\\x02' b'' b'' b'' b'\\x00\\x01']\n"
     ]
    }
   ],
   "source": [
    "arr_num = np.empty(6, dtype=int)\n",
    "arr_complex = np.empty(6, dtype = complex)\n",
    "arr_char = np.empty(6,dtype = 'S3')\n",
    "print(arr_num)\n",
    "print(arr_complex)\n",
    "print(arr_char)"
   ]
  },
  {
   "cell_type": "markdown",
   "metadata": {},
   "source": [
    "### Question 2 (i)"
   ]
  },
  {
   "cell_type": "code",
   "execution_count": 58,
   "metadata": {},
   "outputs": [
    {
     "name": "stdout",
     "output_type": "stream",
     "text": [
      "before sorting: ['4', '6', '11', '5', '2', '108', '53', '9', '17', '21', '66']\n",
      "after sorting: [2, 4, 5, 6, 9, 11, 17, 21, 53, 66, 108]\n"
     ]
    }
   ],
   "source": [
    "file = open(\"demo.txt\", \"r\")\n",
    "for line in file:\n",
    "        print (\"before sorting:\", line.split(','))\n",
    "        print (\"after sorting:\",sorted(map(int, line.split(','))))"
   ]
  }
 ],
 "metadata": {
  "kernelspec": {
   "display_name": "Python 3",
   "language": "python",
   "name": "python3"
  },
  "language_info": {
   "codemirror_mode": {
    "name": "ipython",
    "version": 3
   },
   "file_extension": ".py",
   "mimetype": "text/x-python",
   "name": "python",
   "nbconvert_exporter": "python",
   "pygments_lexer": "ipython3",
   "version": "3.7.6"
  }
 },
 "nbformat": 4,
 "nbformat_minor": 4
}
