{
 "cells": [
  {
   "cell_type": "markdown",
   "metadata": {},
   "source": [
    "### Question 1"
   ]
  },
  {
   "cell_type": "code",
   "execution_count": 1,
   "metadata": {},
   "outputs": [
    {
     "name": "stdout",
     "output_type": "stream",
     "text": [
      "product: 12000\n",
      "sum= 220\n"
     ]
    }
   ],
   "source": [
    "def func(a,b):\n",
    "    mul = a * b\n",
    "    print(\"product:\",mul)\n",
    "    if mul > 1000:\n",
    "        print (\"sum=\",a+b)\n",
    "\n",
    "func(100,120)"
   ]
  },
  {
   "cell_type": "markdown",
   "metadata": {},
   "source": [
    "### Question 2"
   ]
  },
  {
   "cell_type": "code",
   "execution_count": 2,
   "metadata": {},
   "outputs": [
    {
     "name": "stdout",
     "output_type": "stream",
     "text": [
      "input list: [10, 12, 15, 5, 2]\n",
      "div by 5:\n",
      "10\n",
      "15\n",
      "5\n"
     ]
    }
   ],
   "source": [
    "def div5(a):\n",
    "    for i in a:\n",
    "        if i % 5==0:\n",
    "            print(i)\n",
    "            \n",
    "a=[10,12,15,5,2]          \n",
    "print(\"input list:\",a)\n",
    "print(\"div by 5:\")\n",
    "div5(a)"
   ]
  },
  {
   "cell_type": "markdown",
   "metadata": {},
   "source": [
    "### Question 3"
   ]
  },
  {
   "cell_type": "code",
   "execution_count": 3,
   "metadata": {},
   "outputs": [
    {
     "name": "stdout",
     "output_type": "stream",
     "text": [
      "\n",
      "\n",
      "1 \n",
      "\n",
      "2 2 \n",
      "\n",
      "3 3 3 \n",
      "\n",
      "4 4 4 4 \n",
      "\n",
      "5 5 5 5 5 \n",
      "\n"
     ]
    }
   ],
   "source": [
    "def pattern(n):\n",
    "    for i in range(n):\n",
    "        for j in range(1,i+1):\n",
    "            print(i, end=\" \")\n",
    "        print(\"\\n\")\n",
    "pattern(6)      "
   ]
  },
  {
   "cell_type": "markdown",
   "metadata": {},
   "source": [
    "### Question 4"
   ]
  },
  {
   "cell_type": "code",
   "execution_count": 4,
   "metadata": {},
   "outputs": [
    {
     "name": "stdout",
     "output_type": "stream",
     "text": [
      "Table of 5:\n",
      "5 x 0 = 0\n",
      "5 x 1 = 5\n",
      "5 x 2 = 10\n",
      "5 x 3 = 15\n",
      "5 x 4 = 20\n",
      "5 x 5 = 25\n",
      "5 x 6 = 30\n",
      "5 x 7 = 35\n",
      "5 x 8 = 40\n",
      "5 x 9 = 45\n",
      "5 x 10 = 50\n"
     ]
    }
   ],
   "source": [
    "print(\"Table of 5:\")\n",
    "for i in range(11):\n",
    "    print(\"5 x\",i,\"=\",5*i)"
   ]
  },
  {
   "cell_type": "markdown",
   "metadata": {},
   "source": [
    "### Question 5"
   ]
  },
  {
   "cell_type": "code",
   "execution_count": 5,
   "metadata": {},
   "outputs": [
    {
     "name": "stdout",
     "output_type": "stream",
     "text": [
      "3\n",
      "4\n",
      "a = 3  b = 4\n",
      "product: 12\n"
     ]
    }
   ],
   "source": [
    "a = int(input()) \n",
    "b = int(input())\n",
    "mul = a * b\n",
    "print(\"a =\",a, \" b =\", b)\n",
    "print(\"product:\",mul)"
   ]
  },
  {
   "cell_type": "markdown",
   "metadata": {},
   "source": [
    "### Question 6"
   ]
  },
  {
   "cell_type": "code",
   "execution_count": 6,
   "metadata": {},
   "outputs": [
    {
     "name": "stdout",
     "output_type": "stream",
     "text": [
      "input list: [10, 12, 15, 5, 2, 33, 21, 98, 75, 107, 137, 152, 25, 70]\n",
      "div by 5:\n",
      "10\n",
      "15\n",
      "5\n",
      "75\n"
     ]
    }
   ],
   "source": [
    "def div5(a):\n",
    "    for i in a:\n",
    "        if i % 5==0:\n",
    "            print(i)\n",
    "        if i>150:\n",
    "            break;\n",
    "            \n",
    "a=[10,12,15,5,2,33,21,98,75,107,137,152,25,70]          \n",
    "print(\"input list:\",a)\n",
    "print(\"div by 5:\")\n",
    "div5(a)"
   ]
  },
  {
   "cell_type": "markdown",
   "metadata": {},
   "source": [
    "### Question 7"
   ]
  },
  {
   "cell_type": "code",
   "execution_count": 7,
   "metadata": {},
   "outputs": [
    {
     "name": "stdout",
     "output_type": "stream",
     "text": [
      "2 is a prime number\n",
      "47 is a prime number\n",
      "15 is not a prime number\n",
      "-3 is not a prime number\n"
     ]
    }
   ],
   "source": [
    "def prime(n):\n",
    "    if n>1:\n",
    "        for i in range(2,n):\n",
    "            if n%i==0:\n",
    "                print(n,\"is not a prime number\")\n",
    "                break\n",
    "        else:\n",
    "            print(n,\"is a prime number\")\n",
    "    else:\n",
    "        print(n,\"is not a prime number\")\n",
    "\n",
    "prime(2)\n",
    "prime(47)\n",
    "prime(15)\n",
    "prime(-3)"
   ]
  },
  {
   "cell_type": "markdown",
   "metadata": {},
   "source": [
    "###  Question 8"
   ]
  },
  {
   "cell_type": "code",
   "execution_count": 8,
   "metadata": {},
   "outputs": [
    {
     "name": "stdout",
     "output_type": "stream",
     "text": [
      "lowercase letters= 9\n",
      "uppercase letters= 3\n",
      "digits= 2\n",
      "special symbols= 2\n"
     ]
    }
   ],
   "source": [
    "def countstr(s):\n",
    "    count_lower=0\n",
    "    count_upper=0\n",
    "    count_digit=0\n",
    "    count_symbol=0\n",
    "    for i in range(len(s)):\n",
    "        if s[i].islower():\n",
    "            count_lower+=1\n",
    "        elif s[i].isupper():\n",
    "            count_upper+=1\n",
    "        elif s[i].isdigit():\n",
    "            count_digit+=1\n",
    "        else:\n",
    "            count_symbol+=1\n",
    "    print(\"lowercase letters=\",count_lower)\n",
    "    print(\"uppercase letters=\",count_upper)\n",
    "    print(\"digits=\",count_digit)\n",
    "    print(\"special symbols=\",count_symbol)\n",
    "          \n",
    "countstr(\"DS_Assignment_01\")"
   ]
  },
  {
   "cell_type": "markdown",
   "metadata": {},
   "source": [
    "### Question 9"
   ]
  },
  {
   "cell_type": "code",
   "execution_count": 20,
   "metadata": {},
   "outputs": [],
   "source": [
    "list1=[1,2,3,4,5]\n",
    "list2=[6,7,8,9,10]\n",
    "list3=[]"
   ]
  },
  {
   "cell_type": "code",
   "execution_count": null,
   "metadata": {},
   "outputs": [],
   "source": []
  },
  {
   "cell_type": "markdown",
   "metadata": {},
   "source": [
    "### Question 10 "
   ]
  },
  {
   "cell_type": "code",
   "execution_count": 10,
   "metadata": {},
   "outputs": [
    {
     "name": "stdout",
     "output_type": "stream",
     "text": [
      "with duplicates: [1, 5, 3, 2, 4, 1, 9, 5]\n",
      "after removing duplicates: [1, 2, 3, 4, 5, 9]\n",
      "list to tuple: (1, 2, 3, 4, 5, 9)\n",
      "max element= 9\n",
      "min element= 1\n"
     ]
    }
   ],
   "source": [
    "list1=[1,5,3,2,4,1,9,5]\n",
    "print(\"with duplicates:\",list1)\n",
    "list1=list(set(list1))\n",
    "print(\"after removing duplicates:\",list1)\n",
    "list_to_tup = tuple(list1)\n",
    "print(\"list to tuple:\",list_to_tup)\n",
    "print(\"max element=\",max(list_to_tup))\n",
    "print(\"min element=\",min(list_to_tup))"
   ]
  },
  {
   "cell_type": "markdown",
   "metadata": {},
   "source": [
    "### Question 11"
   ]
  },
  {
   "cell_type": "code",
   "execution_count": 11,
   "metadata": {},
   "outputs": [
    {
     "name": "stdout",
     "output_type": "stream",
     "text": [
      "integer array= [[1 2]\n",
      " [2 3]\n",
      " [3 4]\n",
      " [4 5]]\n",
      "shape= (4, 2)\n",
      "length= 4\n"
     ]
    }
   ],
   "source": [
    "import numpy as np\n",
    "mat=np.array([[1,2],[2,3],[3,4],[4,5]],dtype=int)\n",
    "print(\"integer array=\",mat)\n",
    "print(\"shape=\",mat.shape)\n",
    "print(\"length=\",len(mat))"
   ]
  },
  {
   "cell_type": "markdown",
   "metadata": {},
   "source": [
    "### Question 12"
   ]
  },
  {
   "cell_type": "code",
   "execution_count": 12,
   "metadata": {},
   "outputs": [
    {
     "name": "stdout",
     "output_type": "stream",
     "text": [
      "[[ 400 1521 1089]\n",
      " [ 625  625  784]]\n"
     ]
    }
   ],
   "source": [
    "import numpy as np\n",
    "def squar(res):\n",
    "    return res**2\n",
    "\n",
    "arrOne = np.array([[5,6,9],[21,18,27]])\n",
    "arrTwo = np.array([[15,33,24],[4,7,1]])\n",
    "result = np.array(squar(arrOne+arrTwo))\n",
    "print(result)"
   ]
  },
  {
   "cell_type": "markdown",
   "metadata": {},
   "source": [
    "### Question 13"
   ]
  },
  {
   "cell_type": "code",
   "execution_count": 13,
   "metadata": {},
   "outputs": [
    {
     "data": {
      "text/plain": [
       "120"
      ]
     },
     "execution_count": 13,
     "metadata": {},
     "output_type": "execute_result"
    }
   ],
   "source": [
    "def factorial(n):\n",
    "    if (n==0) or (n==1):\n",
    "        return 1\n",
    "    else: \n",
    "        return n*factorial(n-1)\n",
    "\n",
    "factorial(5)"
   ]
  },
  {
   "cell_type": "markdown",
   "metadata": {},
   "source": [
    "### Question 14"
   ]
  },
  {
   "cell_type": "code",
   "execution_count": 16,
   "metadata": {},
   "outputs": [
    {
     "name": "stdout",
     "output_type": "stream",
     "text": [
      "5\n",
      "Fibonacci series till 5\n",
      "0\n",
      "1\n",
      "1\n",
      "2\n",
      "3\n"
     ]
    }
   ],
   "source": [
    "n=int(input())\n",
    "a=0\n",
    "b=1\n",
    "rounds=0\n",
    "print(\"Fibonacci series till\",n)\n",
    "if n==1:\n",
    "    print(a)\n",
    "else:\n",
    "    while (rounds<n):\n",
    "        print(a)\n",
    "        c=a+b\n",
    "        a=b\n",
    "        b=c\n",
    "        rounds +=1     "
   ]
  },
  {
   "cell_type": "markdown",
   "metadata": {},
   "source": [
    "### Question 15"
   ]
  },
  {
   "cell_type": "code",
   "execution_count": 15,
   "metadata": {},
   "outputs": [
    {
     "data": {
      "text/plain": [
       "120"
      ]
     },
     "execution_count": 15,
     "metadata": {},
     "output_type": "execute_result"
    }
   ],
   "source": [
    "def fib(n):\n",
    "    if (n==0) or (n==1):\n",
    "        return n\n",
    "    else:\n",
    "        return (fib(n-2)+fib(n-1))\n",
    "\n",
    "factorial(5)"
   ]
  }
 ],
 "metadata": {
  "kernelspec": {
   "display_name": "Python 3",
   "language": "python",
   "name": "python3"
  },
  "language_info": {
   "codemirror_mode": {
    "name": "ipython",
    "version": 3
   },
   "file_extension": ".py",
   "mimetype": "text/x-python",
   "name": "python",
   "nbconvert_exporter": "python",
   "pygments_lexer": "ipython3",
   "version": "3.7.6"
  }
 },
 "nbformat": 4,
 "nbformat_minor": 4
}
